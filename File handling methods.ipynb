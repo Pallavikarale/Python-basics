{
 "cells": [
  {
   "cell_type": "markdown",
   "id": "57e2a55c",
   "metadata": {},
   "source": [
    "NAME - PALLAVI KARALE"
   ]
  },
  {
   "cell_type": "markdown",
   "id": "4a75d7de",
   "metadata": {},
   "source": [
    "1] append mode (\"a\") -"
   ]
  },
  {
   "cell_type": "code",
   "execution_count": 2,
   "id": "92fd6cfd",
   "metadata": {},
   "outputs": [],
   "source": [
    "\n",
    "s=open(\"abcd.txt\",\"a\")"
   ]
  },
  {
   "cell_type": "code",
   "execution_count": 22,
   "id": "ae04a0e9",
   "metadata": {},
   "outputs": [
    {
     "name": "stdout",
     "output_type": "stream",
     "text": [
      "Python is a high-level, general-purpose programming languagePython is a high-level, general-purpose programming languagePython is a high-level, general-purpose programming language\n",
      "Python is a high-level, general-purpose programming language\n",
      "Python is a high-level, general-purpose programming language\n",
      "Python is a high-level, general-purpose programming language\n",
      "Python is a high-level, general-purpose programming language\n",
      "Python is a high-level, general-purpose programming language\n",
      "Python is a high-level, general-purpose programming language\n",
      "Python is a high-level, general-purpose programming language\n",
      "Python is a high-level, general-purpose programming language\n",
      "Python is a high-level, general-purpose programming language\n",
      "Python is a high-level, general-purpose programming language\n",
      "Python is a high-level, general-purpose programming language\n",
      "Python is a high-level, general-purpose programming language\n",
      "Python is a high-level, general-purpose programming language\n",
      "Python is a high-level, general-purpose programming language\n",
      "Python is a high-level, general-purpose programming language\n",
      "Python is a high-level, general-purpose programming language\n",
      "Python is a high-level, general-purpose programming language\n",
      "\n"
     ]
    }
   ],
   "source": [
    "try:\n",
    "    def fileopen(filename=str,mode=str):\n",
    "        try:\n",
    "            s=open(filename,mode)\n",
    "            s.write(\"Python is a high-level, general-purpose programming language\\n\")\n",
    "            s.close()\n",
    "            s=open(\"abcd.txt\",\"r\")\n",
    "            print(s.read())\n",
    "        except Exception as e:\n",
    "            print(e)\n",
    "    fileopen(\"abcd.txt\",\"a\")\n",
    "except Exception as e:\n",
    "        print(e)"
   ]
  },
  {
   "cell_type": "markdown",
   "id": "fadc5efd",
   "metadata": {},
   "source": [
    "2] write mode(\"w\")-\n",
    " \n",
    "  *Open file in write mode\n",
    "  "
   ]
  },
  {
   "cell_type": "code",
   "execution_count": 12,
   "id": "56aedb7f",
   "metadata": {},
   "outputs": [],
   "source": [
    "f=open(\"PQR.txt\",\"w\")"
   ]
  },
  {
   "cell_type": "code",
   "execution_count": 23,
   "id": "3d45d4e8",
   "metadata": {},
   "outputs": [
    {
     "name": "stdout",
     "output_type": "stream",
     "text": [
      "Python is programming language\n",
      "\n"
     ]
    }
   ],
   "source": [
    "try:\n",
    "    def fileopen(filename=str,mode=str):\n",
    "        try:\n",
    "            f=open(filename,mode)\n",
    "            f.write(\"Python is programming language\\n\")\n",
    "            f.close()\n",
    "            f=open(\"PQR.txt\",\"r\")\n",
    "            print(f.read())\n",
    "        except Exception as e:\n",
    "            print(e)\n",
    "    fileopen(\"PQR.txt\",\"w\")\n",
    "except Exception as e:\n",
    "        print(e)"
   ]
  },
  {
   "cell_type": "markdown",
   "id": "061ace44",
   "metadata": {},
   "source": [
    "3] Read mode(\"r\") -\n",
    "\n",
    "  *Open file in read mode\n"
   ]
  },
  {
   "cell_type": "code",
   "execution_count": 102,
   "id": "6b75618d",
   "metadata": {},
   "outputs": [],
   "source": [
    " s=open(\"abcd.txt\",\"r\") "
   ]
  },
  {
   "cell_type": "code",
   "execution_count": 24,
   "id": "0b409efa",
   "metadata": {},
   "outputs": [
    {
     "name": "stdout",
     "output_type": "stream",
     "text": [
      "Python is a high-level, general-purpose programming languagePython is a high-level, general-purpose programming languagePython is a high-level, general-purpose programming language\n",
      "Python is a high-level, general-purpose programming language\n",
      "Python is a high-level, general-purpose programming language\n",
      "Python is a high-level, general-purpose programming language\n",
      "Python is a high-level, general-purpose programming language\n",
      "Python is a high-level, general-purpose programming language\n",
      "Python is a high-level, general-purpose programming language\n",
      "Python is a high-level, general-purpose programming language\n",
      "Python is a high-level, general-purpose programming language\n",
      "Python is a high-level, general-purpose programming language\n",
      "Python is a high-level, general-purpose programming language\n",
      "Python is a high-level, general-purpose programming language\n",
      "Python is a high-level, general-purpose programming language\n",
      "Python is a high-level, general-purpose programming language\n",
      "Python is a high-level, general-purpose programming language\n",
      "Python is a high-level, general-purpose programming language\n",
      "Python is a high-level, general-purpose programming language\n",
      "Python is a high-level, general-purpose programming language\n",
      "\n"
     ]
    }
   ],
   "source": [
    "try:\n",
    "    def read(filename=str,mode=str):\n",
    "        try:\n",
    "            s=open(filename,mode)\n",
    "            print(s.read())\n",
    "        except Exception as e:\n",
    "            print(e)\n",
    "    read(\"abcd.txt\",\"r\") \n",
    "    \n",
    "except Exception as e:\n",
    "        print(e)"
   ]
  },
  {
   "cell_type": "markdown",
   "id": "c2c0d1b7",
   "metadata": {},
   "source": [
    "4] f.tell -\n",
    "\n",
    "  * to find where is cursor"
   ]
  },
  {
   "cell_type": "code",
   "execution_count": 25,
   "id": "72a02a94",
   "metadata": {},
   "outputs": [
    {
     "name": "stdout",
     "output_type": "stream",
     "text": [
      "0\n"
     ]
    }
   ],
   "source": [
    "try:\n",
    "    def tell(filename=str,mode=str):\n",
    "        try:\n",
    "            s=open(filename,mode)\n",
    "            print(s.tell())\n",
    "        except Exception as e:\n",
    "            print(e)\n",
    "    tell(\"abcd.txt\",\"r\")\n",
    "except Exception as e:\n",
    "        print(e)"
   ]
  },
  {
   "cell_type": "markdown",
   "id": "5b136221",
   "metadata": {},
   "source": [
    "5] s.seek -"
   ]
  },
  {
   "cell_type": "code",
   "execution_count": 26,
   "id": "8181426b",
   "metadata": {},
   "outputs": [
    {
     "name": "stdout",
     "output_type": "stream",
     "text": [
      "10\n"
     ]
    }
   ],
   "source": [
    "try:\n",
    "    def seek(filename=str,mode=str):\n",
    "        try:\n",
    "            s=open(filename,mode)\n",
    "            print(s.seek(10))\n",
    "        except Exception as e:\n",
    "            print(e)\n",
    "    seek(\"abcd.txt\",\"r\")   \n",
    "except Exception as e:\n",
    "        print(e)"
   ]
  },
  {
   "cell_type": "markdown",
   "id": "c28d9b19",
   "metadata": {},
   "source": [
    "6] readline()-"
   ]
  },
  {
   "cell_type": "code",
   "execution_count": 27,
   "id": "2d687161",
   "metadata": {},
   "outputs": [
    {
     "name": "stdout",
     "output_type": "stream",
     "text": [
      "Python is a high-level, general-purpose programming languagePython is a high-level, general-purpose programming languagePython is a high-level, general-purpose programming language\n",
      "\n"
     ]
    }
   ],
   "source": [
    "try:\n",
    "    def readline(filename=str,mode=str):\n",
    "        try:\n",
    "            s=open(filename,mode)\n",
    "            print(s.readline())\n",
    "        except Exception as e:\n",
    "            print(e)\n",
    "    readline(\"abcd.txt\",\"r\")    \n",
    "except Exception as e:\n",
    "    print(e)"
   ]
  },
  {
   "cell_type": "markdown",
   "id": "965322fa",
   "metadata": {},
   "source": [
    "7] create()-"
   ]
  },
  {
   "cell_type": "code",
   "execution_count": 43,
   "id": "a8a0f782",
   "metadata": {},
   "outputs": [],
   "source": [
    "# H=open(\"PQR2.txt\",\"x\")"
   ]
  },
  {
   "cell_type": "code",
   "execution_count": 42,
   "id": "18c567c6",
   "metadata": {},
   "outputs": [
    {
     "name": "stdout",
     "output_type": "stream",
     "text": [
      "[Errno 17] File exists: 'PQR2.txt'\n"
     ]
    }
   ],
   "source": [
    "try:\n",
    "    def fileopen(filename=str,mode=str):\n",
    "        try:\n",
    "            H=open(filename,mode)\n",
    "            H.write(\"Python \")\n",
    "            H.close()\n",
    "            H=open(\"PQR2.txt\",\"r\")\n",
    "            print(H.read())\n",
    "        except Exception as e:\n",
    "            print(e)\n",
    "    fileopen(\"PQR2.txt\",\"x\")\n",
    "except Exception as e:\n",
    "        print(e)"
   ]
  },
  {
   "cell_type": "code",
   "execution_count": null,
   "id": "fbe1e10b",
   "metadata": {},
   "outputs": [],
   "source": []
  }
 ],
 "metadata": {
  "kernelspec": {
   "display_name": "Python 3 (ipykernel)",
   "language": "python",
   "name": "python3"
  },
  "language_info": {
   "codemirror_mode": {
    "name": "ipython",
    "version": 3
   },
   "file_extension": ".py",
   "mimetype": "text/x-python",
   "name": "python",
   "nbconvert_exporter": "python",
   "pygments_lexer": "ipython3",
   "version": "3.9.12"
  }
 },
 "nbformat": 4,
 "nbformat_minor": 5
}
