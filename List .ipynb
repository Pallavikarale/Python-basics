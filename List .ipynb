{
 "cells": [
  {
   "cell_type": "code",
   "execution_count": 1,
   "id": "80c0700c",
   "metadata": {},
   "outputs": [
    {
     "data": {
      "text/plain": [
       "60"
      ]
     },
     "execution_count": 1,
     "metadata": {},
     "output_type": "execute_result"
    }
   ],
   "source": [
    "# to check index no [l.index(index no)]\n",
    "l=[10,20,30,40,50,60,70,\"anuja\",12.36,\"pallavi\",6.14]\n",
    "l[5]"
   ]
  },
  {
   "cell_type": "code",
   "execution_count": 2,
   "id": "f151109c",
   "metadata": {},
   "outputs": [
    {
     "data": {
      "text/plain": [
       "[6.14, 'pallavi', 12.36, 'anuja', 70, 60, 50, 40, 30, 20, 10]"
      ]
     },
     "execution_count": 2,
     "metadata": {},
     "output_type": "execute_result"
    }
   ],
   "source": [
    "# revers list use(l[::-1])\n",
    "l[::-1]"
   ]
  },
  {
   "cell_type": "code",
   "execution_count": 4,
   "id": "f7259c88",
   "metadata": {},
   "outputs": [
    {
     "data": {
      "text/plain": [
       "[10, 40]"
      ]
     },
     "execution_count": 4,
     "metadata": {},
     "output_type": "execute_result"
    }
   ],
   "source": [
    "# Slicing - \n",
    "#  l[0:5:3] means\n",
    "# 0= start ,5 =end,3=step\n",
    "l[0:5:3]"
   ]
  },
  {
   "cell_type": "code",
   "execution_count": 5,
   "id": "59e5feee",
   "metadata": {},
   "outputs": [
    {
     "data": {
      "text/plain": [
       "[10, 20, 30, 60]"
      ]
     },
     "execution_count": 5,
     "metadata": {},
     "output_type": "execute_result"
    }
   ],
   "source": [
    "# Convert tupple into list use (list(t))\n",
    "t=(10,20,30,60)\n",
    "list(t)"
   ]
  },
  {
   "cell_type": "code",
   "execution_count": 6,
   "id": "36a7dd8c",
   "metadata": {},
   "outputs": [
    {
     "data": {
      "text/plain": [
       "['p', 'y', 't', 'h', 'o', 'n', 'c', 'l', 'a', 's', 's']"
      ]
     },
     "execution_count": 6,
     "metadata": {},
     "output_type": "execute_result"
    }
   ],
   "source": [
    "# Convert string into list use (list(s)) \n",
    "s=\"pythonclass\"\n",
    "list(s)"
   ]
  },
  {
   "cell_type": "code",
   "execution_count": 1,
   "id": "31d1ee45",
   "metadata": {},
   "outputs": [],
   "source": [
    "# for search from list use [ in] oprater\n",
    "l=[10,20,30,40,50,60,70,\"anuja\",12.36,\"pallavi\",6.14]"
   ]
  },
  {
   "cell_type": "code",
   "execution_count": 5,
   "id": "f7bf95a4",
   "metadata": {},
   "outputs": [
    {
     "name": "stdout",
     "output_type": "stream",
     "text": [
      "a In list =  True\n",
      "b In list =  False\n"
     ]
    }
   ],
   "source": [
    "a = 20 in l\n",
    "print(\"a In list = \",a)\n",
    "\n",
    "b = 400 in l\n",
    "print(\"b In list = \",b)"
   ]
  },
  {
   "cell_type": "code",
   "execution_count": 8,
   "id": "486e7883",
   "metadata": {},
   "outputs": [
    {
     "name": "stdout",
     "output_type": "stream",
     "text": [
      "a not In list =  True\n",
      "b not In list =  False\n"
     ]
    }
   ],
   "source": [
    "#  for vice versa of in oprater use [not in] oprater\n",
    "a = 410 not in l\n",
    "print(\"a not In list = \",a)\n",
    "\n",
    "10 not in l\n",
    "print(\"b not In list = \",b)"
   ]
  },
  {
   "cell_type": "code",
   "execution_count": null,
   "id": "2d70bc22",
   "metadata": {},
   "outputs": [],
   "source": [
    "#  min ,max func use to check maximum & minimum value fron list\n",
    "# but there are same condition they are working on same type list"
   ]
  },
  {
   "cell_type": "code",
   "execution_count": 13,
   "id": "e117118c",
   "metadata": {},
   "outputs": [
    {
     "name": "stdout",
     "output_type": "stream",
     "text": [
      "maximum no in list =  90\n",
      "minimum no in list =  10\n"
     ]
    }
   ],
   "source": [
    "l=[10,30,40,60,80,90]\n",
    "\n",
    "max(l)\n",
    "print(\"maximum no in list = \",max(l))\n",
    "\n",
    "min(l)\n",
    "print(\"minimum no in list = \",min(l))"
   ]
  },
  {
   "cell_type": "code",
   "execution_count": 17,
   "id": "8d54130b",
   "metadata": {},
   "outputs": [
    {
     "name": "stdout",
     "output_type": "stream",
     "text": [
      "maximum no in list =  pallavi\n",
      "minimum no in list =  anjali\n"
     ]
    }
   ],
   "source": [
    "l1=[\"pallavi\",\"anuja\",\"anjali\",\"pallavi\",\"pallavi\"]\n",
    "\n",
    "max(l1)\n",
    "print(\"maximum no in list = \",max(l1))\n",
    "\n",
    "min(l1)\n",
    "print(\"minimum no in list = \",min(l1))\n"
   ]
  },
  {
   "cell_type": "code",
   "execution_count": 18,
   "id": "865070c1",
   "metadata": {},
   "outputs": [
    {
     "data": {
      "text/plain": [
       "[10, 30, 40, 3, 80, 90]"
      ]
     },
     "execution_count": 18,
     "metadata": {},
     "output_type": "execute_result"
    }
   ],
   "source": [
    "# if you replace in list\n",
    "l=[10,30,40,60,80,90]\n",
    "l[3]= 3\n",
    "l"
   ]
  },
  {
   "cell_type": "code",
   "execution_count": 19,
   "id": "ced9a7fd",
   "metadata": {},
   "outputs": [
    {
     "data": {
      "text/plain": [
       "[10, 30, 40, 54564578, 60, 80, 90]"
      ]
     },
     "execution_count": 19,
     "metadata": {},
     "output_type": "execute_result"
    }
   ],
   "source": [
    "# if you add in list [l,insert(index,object)]\n",
    "l=[10,30,40,60,80,90]\n",
    "l.insert(3,54564578)\n",
    "l"
   ]
  },
  {
   "cell_type": "code",
   "execution_count": 20,
   "id": "a5b68d1b",
   "metadata": {},
   "outputs": [
    {
     "data": {
      "text/plain": [
       "1"
      ]
     },
     "execution_count": 20,
     "metadata": {},
     "output_type": "execute_result"
    }
   ],
   "source": [
    "# count func to check 1 element how many time in there\n",
    "l.count(10)"
   ]
  },
  {
   "cell_type": "code",
   "execution_count": 32,
   "id": "6b53a0d9",
   "metadata": {},
   "outputs": [
    {
     "data": {
      "text/plain": [
       "3"
      ]
     },
     "execution_count": 32,
     "metadata": {},
     "output_type": "execute_result"
    }
   ],
   "source": [
    "# to check index no of given value\n",
    "l=[10,30,40,60,80,90]\n",
    "l.index(60)"
   ]
  },
  {
   "cell_type": "code",
   "execution_count": 26,
   "id": "d1812000",
   "metadata": {},
   "outputs": [
    {
     "data": {
      "text/plain": [
       "[10, 30, 40, 60, 80, 1, 90]"
      ]
     },
     "execution_count": 26,
     "metadata": {},
     "output_type": "execute_result"
    }
   ],
   "source": [
    "# insert values index wise[l.insert(5,1)= 5 is index no and 1 is insert value]\n",
    "l=[10,30,40,60,80,90]\n",
    "l.insert(5,1)\n",
    "l"
   ]
  },
  {
   "cell_type": "code",
   "execution_count": 34,
   "id": "bab3d48a",
   "metadata": {},
   "outputs": [
    {
     "data": {
      "text/plain": [
       "[10, 30, 40, 60, 80, 90, 'python']"
      ]
     },
     "execution_count": 34,
     "metadata": {},
     "output_type": "execute_result"
    }
   ],
   "source": [
    "# add new value in list using append\n",
    "l=[10,30,40,60,80,90]\n",
    "l.append(\"python\")\n",
    "l"
   ]
  },
  {
   "cell_type": "code",
   "execution_count": 37,
   "id": "dd1a1666",
   "metadata": {},
   "outputs": [
    {
     "data": {
      "text/plain": [
       "[1, 2, 3, 'python', 'p', 'y', 't', 'h', 'o', 'n', 'p', 'y', 't', 'h', 'o', 'n']"
      ]
     },
     "execution_count": 37,
     "metadata": {},
     "output_type": "execute_result"
    }
   ],
   "source": [
    "# to extend given value in ()\n",
    "l.extend(\"python\")\n",
    "l"
   ]
  },
  {
   "cell_type": "code",
   "execution_count": 38,
   "id": "f1b4aedb",
   "metadata": {},
   "outputs": [
    {
     "data": {
      "text/plain": [
       "6.14"
      ]
     },
     "execution_count": 38,
     "metadata": {},
     "output_type": "execute_result"
    }
   ],
   "source": [
    " # remove last veriable\n",
    "l=[10,20,30,40,50,60,70,\"anuja\",12.36,\"pallavi\",6.14]\n",
    "l.pop()"
   ]
  },
  {
   "cell_type": "code",
   "execution_count": 39,
   "id": "719edff6",
   "metadata": {},
   "outputs": [
    {
     "data": {
      "text/plain": [
       "[10, 30, 40, 50, 60, 70, 'anuja', 12.36, 'pallavi']"
      ]
     },
     "execution_count": 39,
     "metadata": {},
     "output_type": "execute_result"
    }
   ],
   "source": [
    "# remove any number you want\n",
    "l=[10, 20, 30, 40, 50, 60, 70, 'anuja', 12.36, 'pallavi']\n",
    "l.remove(20)\n",
    "l"
   ]
  },
  {
   "cell_type": "code",
   "execution_count": 41,
   "id": "94628d64",
   "metadata": {},
   "outputs": [
    {
     "data": {
      "text/plain": [
       "[10, 30, 40, 50, 60, 70, 'anuja', 12.36, 'pallavi']"
      ]
     },
     "execution_count": 41,
     "metadata": {},
     "output_type": "execute_result"
    }
   ],
   "source": [
    "# remove index wise use del func\n",
    "l=[10, 20, 30, 40, 50, 60, 70, 'anuja', 12.36, 'pallavi']\n",
    "del l[1]\n",
    "l"
   ]
  },
  {
   "cell_type": "code",
   "execution_count": 42,
   "id": "bf6e3d0f",
   "metadata": {},
   "outputs": [
    {
     "data": {
      "text/plain": [
       "['pallavi', 12.36, 'anuja', 70, 60, 50, 40, 30, 20, 10]"
      ]
     },
     "execution_count": 42,
     "metadata": {},
     "output_type": "execute_result"
    }
   ],
   "source": [
    "# if you want to reverse list then use  [l.reverse()]\n",
    "l=[10, 20, 30, 40, 50, 60, 70, 'anuja', 12.36, 'pallavi']\n",
    "l.reverse()\n",
    "l"
   ]
  },
  {
   "cell_type": "code",
   "execution_count": 16,
   "id": "f940d349",
   "metadata": {},
   "outputs": [],
   "source": [
    "# if you want sort list then use [l.sort()]\n",
    "# if your list type is same then your sort func is worked"
   ]
  },
  {
   "cell_type": "code",
   "execution_count": 43,
   "id": "6ca41a97",
   "metadata": {},
   "outputs": [
    {
     "data": {
      "text/plain": [
       "[0, 6, 20, 24, 30, 55, 55, 62]"
      ]
     },
     "execution_count": 43,
     "metadata": {},
     "output_type": "execute_result"
    }
   ],
   "source": [
    "l=[0,20,30,55,24,62,55,6]\n",
    "l.sort()\n",
    "l"
   ]
  },
  {
   "cell_type": "code",
   "execution_count": 44,
   "id": "e4d1e5fa",
   "metadata": {},
   "outputs": [
    {
     "data": {
      "text/plain": [
       "[0, 6, 20, 24, 30, 55, 55, 62]"
      ]
     },
     "execution_count": 44,
     "metadata": {},
     "output_type": "execute_result"
    }
   ],
   "source": [
    "# if you want to copy /add in list to use [l.copy()]\n",
    "l.copy()"
   ]
  },
  {
   "cell_type": "code",
   "execution_count": 45,
   "id": "6302bd4a",
   "metadata": {},
   "outputs": [
    {
     "data": {
      "text/plain": [
       "[0, 6, 20, 24, 30, 55, 55, 62, 25, 62, 95, 63, 84, 55]"
      ]
     },
     "execution_count": 45,
     "metadata": {},
     "output_type": "execute_result"
    }
   ],
   "source": [
    "# if you add 2 list simple way \n",
    "l=[0, 6, 20, 24, 30, 55, 55, 62]\n",
    "l2=[25,62,95,63,84,55]\n",
    "l+l2"
   ]
  },
  {
   "cell_type": "code",
   "execution_count": 46,
   "id": "cfddef91",
   "metadata": {},
   "outputs": [
    {
     "data": {
      "text/plain": [
       "[[1, 2, 3], [5, 8.6], [9.2, 7]]"
      ]
     },
     "execution_count": 46,
     "metadata": {},
     "output_type": "execute_result"
    }
   ],
   "source": [
    "# nested list(means list me list ,list me list)\n",
    "l=[1,2,3]\n",
    "l2=[5,8.6]\n",
    "l3=[9.2,7]\n",
    "\n",
    "l4=[l,l2,l3]\n",
    "l4"
   ]
  },
  {
   "cell_type": "code",
   "execution_count": 30,
   "id": "b9e0857b",
   "metadata": {},
   "outputs": [
    {
     "data": {
      "text/plain": [
       "[5, 8.6]"
      ]
     },
     "execution_count": 30,
     "metadata": {},
     "output_type": "execute_result"
    }
   ],
   "source": [
    "l4[1]"
   ]
  },
  {
   "cell_type": "code",
   "execution_count": 31,
   "id": "4e346dfb",
   "metadata": {},
   "outputs": [
    {
     "data": {
      "text/plain": [
       "[5, 8.6]"
      ]
     },
     "execution_count": 31,
     "metadata": {},
     "output_type": "execute_result"
    }
   ],
   "source": [
    "l5=l4[1]\n",
    "l5"
   ]
  },
  {
   "cell_type": "code",
   "execution_count": 33,
   "id": "90bf1e72",
   "metadata": {},
   "outputs": [
    {
     "data": {
      "text/plain": [
       "8.6"
      ]
     },
     "execution_count": 33,
     "metadata": {},
     "output_type": "execute_result"
    }
   ],
   "source": [
    "l5[1]"
   ]
  },
  {
   "cell_type": "code",
   "execution_count": 34,
   "id": "e52e667f",
   "metadata": {},
   "outputs": [
    {
     "data": {
      "text/plain": [
       "8.6"
      ]
     },
     "execution_count": 34,
     "metadata": {},
     "output_type": "execute_result"
    }
   ],
   "source": [
    "l4[1][1]"
   ]
  }
 ],
 "metadata": {
  "kernelspec": {
   "display_name": "Python 3 (ipykernel)",
   "language": "python",
   "name": "python3"
  },
  "language_info": {
   "codemirror_mode": {
    "name": "ipython",
    "version": 3
   },
   "file_extension": ".py",
   "mimetype": "text/x-python",
   "name": "python",
   "nbconvert_exporter": "python",
   "pygments_lexer": "ipython3",
   "version": "3.9.12"
  }
 },
 "nbformat": 4,
 "nbformat_minor": 5
}
