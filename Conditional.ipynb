{
 "cells": [
  {
   "cell_type": "markdown",
   "id": "409026b9",
   "metadata": {},
   "source": [
    "* If you have 1 condition use \"if\"\n",
    "* If you have 2 condition use \"if - else\"\n",
    "* If you have multiple condition use \"elif\"between\"if\" & \"else\""
   ]
  },
  {
   "cell_type": "raw",
   "id": "e249b623",
   "metadata": {},
   "source": [
    "# logical conditions:\n",
    "\n",
    "Equals: a == b\n",
    "Not Equals: a != b\n",
    "Less than: a < b\n",
    "Less than or equal to: a <= b\n",
    "Greater than: a > b\n",
    "Greater than or equal to: a >= b"
   ]
  },
  {
   "cell_type": "code",
   "execution_count": 1,
   "id": "8e014982",
   "metadata": {},
   "outputs": [
    {
     "name": "stdout",
     "output_type": "stream",
     "text": [
      "a is positive number\n"
     ]
    }
   ],
   "source": [
    "# Example of 1 condition-\n",
    "a = 6\n",
    "if a > 0:\n",
    "    print(\"a is positive number\")"
   ]
  },
  {
   "cell_type": "code",
   "execution_count": 2,
   "id": "bf1d98c6",
   "metadata": {},
   "outputs": [
    {
     "name": "stdout",
     "output_type": "stream",
     "text": [
      "b is not positive number\n"
     ]
    }
   ],
   "source": [
    "# Example of  condition - \n",
    "b = -69\n",
    "\n",
    "if b > 0:\n",
    "    print(\"b is positive number\")\n",
    "else:\n",
    "    print(\"b is not positive number\")\n"
   ]
  },
  {
   "cell_type": "code",
   "execution_count": 4,
   "id": "ddb2d69f",
   "metadata": {},
   "outputs": [
    {
     "name": "stdout",
     "output_type": "stream",
     "text": [
      "enter a number : 65\n",
      "c is positive number\n"
     ]
    }
   ],
   "source": [
    "# if there are 3 conditions\n",
    "# use input function\n",
    "c = int(input(\"enter a number : \"))\n",
    "\n",
    "if c > 0:\n",
    "    print(\"c is positive number\")\n",
    "elif c==0:\n",
    "    print(\"c is zero\")\n",
    "else:\n",
    "    print(\"c is not positive number\")\n"
   ]
  },
  {
   "cell_type": "code",
   "execution_count": 5,
   "id": "e3711d35",
   "metadata": {},
   "outputs": [
    {
     "name": "stdout",
     "output_type": "stream",
     "text": [
      "Enter a number : 65\n",
      "a is positive number\n"
     ]
    }
   ],
   "source": [
    "# if number is positive append in positive_no list and number is negative append in negative_no\n",
    "\n",
    "positive_no = []\n",
    "negative_no = []\n",
    "\n",
    "a = int(input(\"Enter a number : \"))\n",
    "\n",
    "if a > 0:\n",
    "    positive_no.append(a)\n",
    "    print(\"a is positive number\")\n",
    "elif a==0:\n",
    "     \n",
    "    print(\"a is zero\")\n",
    "else:\n",
    "    negative_no.append(a)\n",
    "    print(\"a is positive number\")  "
   ]
  },
  {
   "cell_type": "code",
   "execution_count": 6,
   "id": "234d7915",
   "metadata": {
    "scrolled": true
   },
   "outputs": [
    {
     "name": "stdout",
     "output_type": "stream",
     "text": [
      "Enter a number : 65\n",
      "Enter a number : 65\n",
      "b is Grether\n"
     ]
    }
   ],
   "source": [
    "# To check a is grether than b\n",
    "a = int(input(\"Enter a number : \"))\n",
    "b = int(input(\"Enter a number : \"))\n",
    "\n",
    "if a > b:\n",
    "    print(\"a is a Grether\")\n",
    "else:\n",
    "    print(\"b is Grether\")"
   ]
  },
  {
   "cell_type": "code",
   "execution_count": 7,
   "id": "138af8b2",
   "metadata": {},
   "outputs": [
    {
     "name": "stdout",
     "output_type": "stream",
     "text": [
      "Enter a number : 878\n",
      "This is an even number : \n"
     ]
    }
   ],
   "source": [
    "# To check even / odd number\n",
    "a = int(input(\"Enter a number : \"))\n",
    "\n",
    "if a % 2 == 0:\n",
    "    print(\"This is an even number : \")\n",
    "else:\n",
    "    print(\"This is an odd number : \")"
   ]
  },
  {
   "cell_type": "code",
   "execution_count": 8,
   "id": "9da144cd",
   "metadata": {},
   "outputs": [
    {
     "name": "stdout",
     "output_type": "stream",
     "text": [
      "b is Grether \n"
     ]
    }
   ],
   "source": [
    "# in single line code\n",
    "a = 25\n",
    "b = 69\n",
    "print(\"a is Grether\") if a>b else print (\"b is Grether \")"
   ]
  },
  {
   "cell_type": "code",
   "execution_count": 9,
   "id": "b3372c7a",
   "metadata": {},
   "outputs": [
    {
     "name": "stdout",
     "output_type": "stream",
     "text": [
      "a is positive number\n"
     ]
    }
   ],
   "source": [
    "# To check a is positive or negative\n",
    "a = 10\n",
    "\n",
    "if a>0:\n",
    "    print(\"a is positive number\")\n",
    "else:\n",
    "     print(\"a is negative number\")"
   ]
  },
  {
   "cell_type": "code",
   "execution_count": 10,
   "id": "a7193a71",
   "metadata": {},
   "outputs": [
    {
     "name": "stdout",
     "output_type": "stream",
     "text": [
      "a is positive number\n"
     ]
    }
   ],
   "source": [
    "# To check 2 conditions \n",
    "# 1] a is positive or negative\n",
    "# 2] a is zero\n",
    "a = 10\n",
    "\n",
    "if a>=0:\n",
    "    if a > 0:\n",
    "        print(\"a is positive number\")\n",
    "    else:\n",
    "        print (\"a is zero\")\n",
    "else:\n",
    "     print(\"a is negative number\")"
   ]
  },
  {
   "cell_type": "code",
   "execution_count": 13,
   "id": "b715a4dd",
   "metadata": {},
   "outputs": [],
   "source": [
    "#  pass - if statement with no content, put in the pass statement to avoid getting an error.\n",
    "# continue - The continue statement in Python returns the control to the beginning of the while loop.\n",
    "#  break - when break keyword is encountered, it will exit the loop.\n",
    "\n",
    "a = 15\n",
    "b = 85\n",
    "if a >b:\n",
    "    pass"
   ]
  },
  {
   "cell_type": "code",
   "execution_count": 19,
   "id": "3ef0f978",
   "metadata": {},
   "outputs": [
    {
     "name": "stdout",
     "output_type": "stream",
     "text": [
      "Enter a number : -8\n",
      "a is smaller than 10\n"
     ]
    }
   ],
   "source": [
    "a = int(input(\"Enter a number : \"))\n",
    "\n",
    "if a > 10:\n",
    "    print(\"a is grether than 10\")\n",
    "    if a > 20:\n",
    "        print(\"a is grether than 20\")\n",
    "        if a>30:\n",
    "            print(\"a is grether than 30\")\n",
    "        else:\n",
    "            print(\"a is smaller than 30\")\n",
    "    else:\n",
    "        print(\"a is smaller than 20\")\n",
    "else:\n",
    "    print(\"a is smaller than 10\")"
   ]
  },
  {
   "cell_type": "code",
   "execution_count": 20,
   "id": "29262380",
   "metadata": {},
   "outputs": [
    {
     "name": "stdout",
     "output_type": "stream",
     "text": [
      "Enter a username : Pallavi\n",
      "Enter a password : 12345\n",
      "Logged in\n"
     ]
    }
   ],
   "source": [
    "# and \n",
    "\n",
    "username = input(\"Enter a username : \")\n",
    "passsward = input(\"Enter a password : \")\n",
    "\n",
    "if username == \"Pallavi\" and passsward == \"12345\":\n",
    "    print(\"Logged in\")\n",
    "else:\n",
    "    print(\"pass/username is incorrect\")"
   ]
  },
  {
   "cell_type": "code",
   "execution_count": 22,
   "id": "7352e932",
   "metadata": {},
   "outputs": [
    {
     "name": "stdout",
     "output_type": "stream",
     "text": [
      "Enter a username : Pallavi\n",
      "Enter a password : 12345\n",
      "Logged in\n"
     ]
    }
   ],
   "source": [
    "# or\n",
    "# if you want lower case character and customer enter capital character then use lower() function\n",
    "username = input(\"Enter a username : \")\n",
    "username = username.lower()\n",
    "passsward = input(\"Enter a password : \")\n",
    "\n",
    "if username == \"pallavi\" or passsward == \"12345\":\n",
    "    print(\"Logged in\")\n",
    "else:\n",
    "    print(\"pass/username is incorrect\")"
   ]
  },
  {
   "cell_type": "code",
   "execution_count": 29,
   "id": "999c4f06",
   "metadata": {},
   "outputs": [
    {
     "name": "stdout",
     "output_type": "stream",
     "text": [
      "this is str\n"
     ]
    }
   ],
   "source": [
    "# To check type of a is int ,str ,floate and invalid\n",
    "\n",
    "a = \"sdf\"\n",
    "\n",
    "if type(a)==int or type(a)==float:\n",
    "    print(\"this input is int\")\n",
    "elif type(a)==str:\n",
    "    print(\"this is str\")\n",
    "else:\n",
    "    print(\"this is invalid\")"
   ]
  },
  {
   "cell_type": "code",
   "execution_count": 32,
   "id": "6f612da6",
   "metadata": {},
   "outputs": [
    {
     "name": "stdout",
     "output_type": "stream",
     "text": [
      "Enter your phone number : 36\n",
      "Enter a correct number\n"
     ]
    }
   ],
   "source": [
    "# condition for Phone number\n",
    "a = input(\"Enter your phone number : \")\n",
    "\n",
    "if len(a) == 10:\n",
    "    print(\"number is valid\")\n",
    "else:\n",
    "    print(\"Enter a correct number\")"
   ]
  },
  {
   "cell_type": "code",
   "execution_count": null,
   "id": "a5685ac3",
   "metadata": {},
   "outputs": [],
   "source": []
  }
 ],
 "metadata": {
  "kernelspec": {
   "display_name": "Python 3 (ipykernel)",
   "language": "python",
   "name": "python3"
  },
  "language_info": {
   "codemirror_mode": {
    "name": "ipython",
    "version": 3
   },
   "file_extension": ".py",
   "mimetype": "text/x-python",
   "name": "python",
   "nbconvert_exporter": "python",
   "pygments_lexer": "ipython3",
   "version": "3.9.12"
  }
 },
 "nbformat": 4,
 "nbformat_minor": 5
}
