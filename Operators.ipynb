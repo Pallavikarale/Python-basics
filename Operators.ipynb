{
 "cells": [
  {
   "cell_type": "raw",
   "id": "273ea4ec",
   "metadata": {},
   "source": [
    "* Identifier operator\n",
    "\n",
    "1)variables\n",
    "2)constant\n",
    "3)keywords\n",
    "4)comments\n",
    "\n",
    "* condition - use upper & lower case [A ,a]\n",
    "            can not use any numbers & any symbols but (_) can also use"
   ]
  },
  {
   "cell_type": "code",
   "execution_count": 4,
   "id": "95f93661",
   "metadata": {},
   "outputs": [
    {
     "data": {
      "text/plain": [
       "str"
      ]
     },
     "execution_count": 4,
     "metadata": {},
     "output_type": "execute_result"
    }
   ],
   "source": [
    "# to check type of function\n",
    "s=\"abc\"\n",
    "type(s)"
   ]
  },
  {
   "cell_type": "code",
   "execution_count": 5,
   "id": "96fac66f",
   "metadata": {},
   "outputs": [],
   "source": [
    "# key word - if, else ,for ,try ,expect , def, break , pass , continue , class  "
   ]
  },
  {
   "cell_type": "markdown",
   "id": "d9498f88",
   "metadata": {},
   "source": [
    "* operators -\n",
    "             1) mathamatical\\ arthematic [+,-,*,/,//,%]\n",
    "             2) Relational \\ comparison\n",
    "             3) logical\n",
    "             4) assignment\n",
    "             5) bitwise\n",
    "             6) membership\n",
    "             7) identity\n",
    "              "
   ]
  },
  {
   "cell_type": "markdown",
   "id": "676640e0",
   "metadata": {},
   "source": [
    "1) Mathematical \\ arethmatic opraters - \n",
    "    EXAMPLES -\n",
    "   "
   ]
  },
  {
   "cell_type": "code",
   "execution_count": 41,
   "id": "e04ae4ac",
   "metadata": {},
   "outputs": [
    {
     "name": "stdout",
     "output_type": "stream",
     "text": [
      "a+b =  77\n",
      "a-b =  -53\n",
      "a*b =  780\n",
      "a/b =  0.18461538461538463\n",
      "a//b =  0\n",
      "a%b =  12\n"
     ]
    }
   ],
   "source": [
    "a=12\n",
    "b=65\n",
    "\n",
    "print(\"a+b = \",a+b)\n",
    "print(\"a-b = \",a-b)\n",
    "print(\"a*b = \",a*b)\n",
    "print(\"a/b = \",a/b)\n",
    "print(\"a//b = \",a//b)\n",
    "print(\"a%b = \",a%b)"
   ]
  },
  {
   "cell_type": "markdown",
   "id": "b8f21bbe",
   "metadata": {},
   "source": [
    "2] Relational - < , > , <= , >= , == ,!=\n"
   ]
  },
  {
   "cell_type": "code",
   "execution_count": 43,
   "id": "01d333d9",
   "metadata": {},
   "outputs": [
    {
     "name": "stdout",
     "output_type": "stream",
     "text": [
      "10<3 =  False\n",
      "10>3 =  True\n"
     ]
    }
   ],
   "source": [
    "10<3\n",
    "10>3\n",
    "\n",
    "print(\"10<3 = \",10<3)\n",
    "print(\"10>3 = \",10>3)"
   ]
  },
  {
   "cell_type": "code",
   "execution_count": 44,
   "id": "d12e81e3",
   "metadata": {},
   "outputs": [
    {
     "name": "stdout",
     "output_type": "stream",
     "text": [
      "10<=3 =  False\n",
      "10>=3 =  True\n"
     ]
    }
   ],
   "source": [
    "10<=3\n",
    "10>=3\n",
    "\n",
    "print(\"10<=3 = \",10<=3)\n",
    "print(\"10>=3 = \",10>=3)"
   ]
  },
  {
   "cell_type": "code",
   "execution_count": 45,
   "id": "02a7388b",
   "metadata": {},
   "outputs": [
    {
     "name": "stdout",
     "output_type": "stream",
     "text": [
      "10==10 =  True\n",
      "10==3 =  False\n",
      "10!=3 =  True\n"
     ]
    }
   ],
   "source": [
    "10==10\n",
    "10==3\n",
    "10!=3\n",
    "\n",
    "print(\"10==10 = \",10==10)\n",
    "print(\"10==3 = \",10==3)\n",
    "print(\"10!=3 = \",10!=3)"
   ]
  },
  {
   "cell_type": "raw",
   "id": "7c09254b",
   "metadata": {},
   "source": [
    "3] logical - true(t) / false(f)\n",
    "         if a = true & b= true\n",
    "         then\n",
    "         a     b     and    or    not\n",
    "         t     t      t      t     f\n",
    "         t     f      f      t     f\n",
    "         f     t      f      t     t"
   ]
  },
  {
   "cell_type": "markdown",
   "id": "dfd385e7",
   "metadata": {},
   "source": [
    "4] Assignment -  = , += , -= , *= , /= "
   ]
  },
  {
   "cell_type": "code",
   "execution_count": 62,
   "id": "a5078105",
   "metadata": {},
   "outputs": [],
   "source": [
    "a-=1"
   ]
  },
  {
   "cell_type": "code",
   "execution_count": 63,
   "id": "7cc18d3c",
   "metadata": {},
   "outputs": [
    {
     "data": {
      "text/plain": [
       "6"
      ]
     },
     "execution_count": 63,
     "metadata": {},
     "output_type": "execute_result"
    }
   ],
   "source": [
    "a"
   ]
  },
  {
   "cell_type": "code",
   "execution_count": 64,
   "id": "0e19af44",
   "metadata": {},
   "outputs": [],
   "source": [
    "a*=1"
   ]
  },
  {
   "cell_type": "code",
   "execution_count": 65,
   "id": "410d0366",
   "metadata": {},
   "outputs": [
    {
     "data": {
      "text/plain": [
       "6"
      ]
     },
     "execution_count": 65,
     "metadata": {},
     "output_type": "execute_result"
    }
   ],
   "source": [
    "a"
   ]
  },
  {
   "cell_type": "markdown",
   "id": "b43c3bf8",
   "metadata": {},
   "source": [
    "5] bitwise - 1 2 4 8 16 32 64  \n",
    "             <<              >>"
   ]
  },
  {
   "cell_type": "code",
   "execution_count": 24,
   "id": "a2f94181",
   "metadata": {},
   "outputs": [],
   "source": [
    "a=12"
   ]
  },
  {
   "cell_type": "code",
   "execution_count": 25,
   "id": "7ce6027d",
   "metadata": {},
   "outputs": [
    {
     "data": {
      "text/plain": [
       "3"
      ]
     },
     "execution_count": 25,
     "metadata": {},
     "output_type": "execute_result"
    }
   ],
   "source": [
    "a>>2"
   ]
  },
  {
   "cell_type": "code",
   "execution_count": 26,
   "id": "e61f9fe8",
   "metadata": {},
   "outputs": [
    {
     "data": {
      "text/plain": [
       "768"
      ]
     },
     "execution_count": 26,
     "metadata": {},
     "output_type": "execute_result"
    }
   ],
   "source": [
    "a<<6\n"
   ]
  },
  {
   "cell_type": "markdown",
   "id": "01308d58",
   "metadata": {},
   "source": [
    "6] membership - \n",
    "   this function to check member in set"
   ]
  },
  {
   "cell_type": "code",
   "execution_count": 27,
   "id": "e47f1a2d",
   "metadata": {},
   "outputs": [],
   "source": [
    "s=\"python\""
   ]
  },
  {
   "cell_type": "code",
   "execution_count": 28,
   "id": "357cc25e",
   "metadata": {},
   "outputs": [
    {
     "data": {
      "text/plain": [
       "True"
      ]
     },
     "execution_count": 28,
     "metadata": {},
     "output_type": "execute_result"
    }
   ],
   "source": [
    "\"python\" in s"
   ]
  },
  {
   "cell_type": "code",
   "execution_count": 29,
   "id": "9a9a153e",
   "metadata": {},
   "outputs": [
    {
     "data": {
      "text/plain": [
       "False"
      ]
     },
     "execution_count": 29,
     "metadata": {},
     "output_type": "execute_result"
    }
   ],
   "source": [
    "\"java\" in s"
   ]
  },
  {
   "cell_type": "markdown",
   "id": "ac869f32",
   "metadata": {},
   "source": [
    "7] identity -\n",
    "\n",
    " i) to convert int fun into string use \".....\"\n",
    " \n",
    " ii) to check len fun use only string fun "
   ]
  },
  {
   "cell_type": "code",
   "execution_count": 30,
   "id": "1e752a37",
   "metadata": {},
   "outputs": [],
   "source": [
    "k= \"asd\""
   ]
  },
  {
   "cell_type": "code",
   "execution_count": 31,
   "id": "572d8680",
   "metadata": {},
   "outputs": [],
   "source": [
    "k1=\"asd\""
   ]
  },
  {
   "cell_type": "code",
   "execution_count": 32,
   "id": "622f75f5",
   "metadata": {},
   "outputs": [
    {
     "data": {
      "text/plain": [
       "True"
      ]
     },
     "execution_count": 32,
     "metadata": {},
     "output_type": "execute_result"
    }
   ],
   "source": [
    "k is k1 "
   ]
  }
 ],
 "metadata": {
  "kernelspec": {
   "display_name": "Python 3 (ipykernel)",
   "language": "python",
   "name": "python3"
  },
  "language_info": {
   "codemirror_mode": {
    "name": "ipython",
    "version": 3
   },
   "file_extension": ".py",
   "mimetype": "text/x-python",
   "name": "python",
   "nbconvert_exporter": "python",
   "pygments_lexer": "ipython3",
   "version": "3.9.12"
  }
 },
 "nbformat": 4,
 "nbformat_minor": 5
}
