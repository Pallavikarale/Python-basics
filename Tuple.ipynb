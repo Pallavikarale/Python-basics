{
 "cells": [
  {
   "cell_type": "code",
   "execution_count": 2,
   "id": "a083957b",
   "metadata": {},
   "outputs": [
    {
     "data": {
      "text/plain": [
       "int"
      ]
     },
     "execution_count": 2,
     "metadata": {},
     "output_type": "execute_result"
    }
   ],
   "source": [
    "# t=(  )\n",
    "t=(12)\n",
    "type(t)"
   ]
  },
  {
   "cell_type": "code",
   "execution_count": 3,
   "id": "25cc6c67",
   "metadata": {},
   "outputs": [
    {
     "data": {
      "text/plain": [
       "tuple"
      ]
     },
     "execution_count": 3,
     "metadata": {},
     "output_type": "execute_result"
    }
   ],
   "source": [
    "# covert int into tuple use \",\"\n",
    "t=(12,)\n",
    "type(t)"
   ]
  },
  {
   "cell_type": "code",
   "execution_count": 4,
   "id": "cd3fffb4",
   "metadata": {},
   "outputs": [],
   "source": [
    "#In tuple we can not make any changes\n",
    "t = (10,20,30,40,'python',False)"
   ]
  },
  {
   "cell_type": "code",
   "execution_count": 5,
   "id": "d3bc66f0",
   "metadata": {},
   "outputs": [
    {
     "data": {
      "text/plain": [
       "(False, 'python', 40, 30, 20, 10)"
      ]
     },
     "execution_count": 5,
     "metadata": {},
     "output_type": "execute_result"
    }
   ],
   "source": [
    "# reverse tuple\n",
    "t[::-1]"
   ]
  },
  {
   "cell_type": "code",
   "execution_count": 6,
   "id": "5e5fef7b",
   "metadata": {},
   "outputs": [
    {
     "data": {
      "text/plain": [
       "2"
      ]
     },
     "execution_count": 6,
     "metadata": {},
     "output_type": "execute_result"
    }
   ],
   "source": [
    "# To find index number of given value\n",
    "t.index(30)"
   ]
  },
  {
   "cell_type": "code",
   "execution_count": 9,
   "id": "3c898203",
   "metadata": {},
   "outputs": [
    {
     "data": {
      "text/plain": [
       "(10, 20, 30, 40, 'python', False, 10, 20, 30, 40, 'python', False)"
      ]
     },
     "execution_count": 9,
     "metadata": {},
     "output_type": "execute_result"
    }
   ],
   "source": [
    "# To print given tuple in multiple time\n",
    "t1 = t*2\n",
    "t1 "
   ]
  },
  {
   "cell_type": "code",
   "execution_count": 11,
   "id": "17c4fd2d",
   "metadata": {},
   "outputs": [
    {
     "data": {
      "text/plain": [
       "2"
      ]
     },
     "execution_count": 11,
     "metadata": {},
     "output_type": "execute_result"
    }
   ],
   "source": [
    "# Returns the number of times a specified value occurs in a tuple \n",
    "t1.count(10)"
   ]
  },
  {
   "cell_type": "code",
   "execution_count": 13,
   "id": "c6bd3be8",
   "metadata": {},
   "outputs": [
    {
     "data": {
      "text/plain": [
       "[12, 56, 68, 74, 89]"
      ]
     },
     "execution_count": 13,
     "metadata": {},
     "output_type": "execute_result"
    }
   ],
   "source": [
    "# if you want to change in tuple then use sorted fun for change type \n",
    "t=(12,56,89,74,68)\n",
    "sorted(t)"
   ]
  },
  {
   "cell_type": "code",
   "execution_count": 17,
   "id": "2a1d7c9b",
   "metadata": {},
   "outputs": [
    {
     "name": "stdout",
     "output_type": "stream",
     "text": [
      "min = 12\n",
      "max = 89\n"
     ]
    }
   ],
   "source": [
    "min(t)\n",
    "print(\"min =\",min(t))\n",
    "max(t)\n",
    "print(\"max =\",max(t))"
   ]
  }
 ],
 "metadata": {
  "kernelspec": {
   "display_name": "Python 3 (ipykernel)",
   "language": "python",
   "name": "python3"
  },
  "language_info": {
   "codemirror_mode": {
    "name": "ipython",
    "version": 3
   },
   "file_extension": ".py",
   "mimetype": "text/x-python",
   "name": "python",
   "nbconvert_exporter": "python",
   "pygments_lexer": "ipython3",
   "version": "3.9.12"
  }
 },
 "nbformat": 4,
 "nbformat_minor": 5
}
