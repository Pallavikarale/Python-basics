{
 "cells": [
  {
   "cell_type": "code",
   "execution_count": null,
   "id": "ed03d49e",
   "metadata": {},
   "outputs": [],
   "source": [
    "# string always write in \"..\""
   ]
  },
  {
   "cell_type": "code",
   "execution_count": 1,
   "id": "03a3c518",
   "metadata": {},
   "outputs": [
    {
     "data": {
      "text/plain": [
       "str"
      ]
     },
     "execution_count": 1,
     "metadata": {},
     "output_type": "execute_result"
    }
   ],
   "source": [
    "# to check type of fun use tyep(..)\n",
    "s= \"datascience\"\n",
    "type(s)"
   ]
  },
  {
   "cell_type": "code",
   "execution_count": 2,
   "id": "1f976304",
   "metadata": {},
   "outputs": [
    {
     "data": {
      "text/plain": [
       "11"
      ]
     },
     "execution_count": 2,
     "metadata": {},
     "output_type": "execute_result"
    }
   ],
   "source": [
    "# to check length use len(..)\n",
    "len(s)"
   ]
  },
  {
   "cell_type": "markdown",
   "id": "cfff396c",
   "metadata": {},
   "source": [
    "indexing opration"
   ]
  },
  {
   "cell_type": "code",
   "execution_count": 3,
   "id": "8b976caf",
   "metadata": {},
   "outputs": [],
   "source": [
    "#indexing opration ke liye use square braket [..]\n",
    "# function ke liye use (..)braket"
   ]
  },
  {
   "cell_type": "code",
   "execution_count": 4,
   "id": "3e35e79c",
   "metadata": {},
   "outputs": [
    {
     "data": {
      "text/plain": [
       "'c'"
      ]
     },
     "execution_count": 4,
     "metadata": {},
     "output_type": "execute_result"
    }
   ],
   "source": [
    "# we write positive int then they count left to right\n",
    "s[5]"
   ]
  },
  {
   "cell_type": "code",
   "execution_count": 6,
   "id": "1408457a",
   "metadata": {},
   "outputs": [
    {
     "data": {
      "text/plain": [
       "'i'"
      ]
     },
     "execution_count": 6,
     "metadata": {},
     "output_type": "execute_result"
    }
   ],
   "source": [
    "# we write negative int then they count right to left\n",
    "s[-5]"
   ]
  },
  {
   "cell_type": "markdown",
   "id": "a5f0277b",
   "metadata": {},
   "source": [
    "Slicing opration"
   ]
  },
  {
   "cell_type": "code",
   "execution_count": 6,
   "id": "ec34c429",
   "metadata": {},
   "outputs": [],
   "source": [
    "# s[start:end:step]\n",
    "# start = start numbers\n",
    "# end   = end numbers\n",
    "# step  = gap of numbers\n",
    "# if we dont write step then 1 is always in default"
   ]
  },
  {
   "cell_type": "code",
   "execution_count": 9,
   "id": "0f631beb",
   "metadata": {},
   "outputs": [
    {
     "data": {
      "text/plain": [
       "'aac'"
      ]
     },
     "execution_count": 9,
     "metadata": {},
     "output_type": "execute_result"
    }
   ],
   "source": [
    "s[1:6:2]"
   ]
  },
  {
   "cell_type": "code",
   "execution_count": 10,
   "id": "e9d27f22",
   "metadata": {},
   "outputs": [
    {
     "data": {
      "text/plain": [
       "'ecneics'"
      ]
     },
     "execution_count": 10,
     "metadata": {},
     "output_type": "execute_result"
    }
   ],
   "source": [
    "s[-1:-8:-1]"
   ]
  },
  {
   "cell_type": "code",
   "execution_count": 7,
   "id": "01767d47",
   "metadata": {},
   "outputs": [],
   "source": [
    "# in string only add string function not int\n",
    "# if you want add any int then convert into string using \"..\""
   ]
  },
  {
   "cell_type": "code",
   "execution_count": 8,
   "id": "f265b140",
   "metadata": {},
   "outputs": [
    {
     "data": {
      "text/plain": [
       "'datasciencepallavi'"
      ]
     },
     "execution_count": 8,
     "metadata": {},
     "output_type": "execute_result"
    }
   ],
   "source": [
    " s + \"pallavi\""
   ]
  },
  {
   "cell_type": "code",
   "execution_count": 9,
   "id": "ce557917",
   "metadata": {},
   "outputs": [
    {
     "data": {
      "text/plain": [
       "'datascience123'"
      ]
     },
     "execution_count": 9,
     "metadata": {},
     "output_type": "execute_result"
    }
   ],
   "source": [
    "s+\"123\""
   ]
  },
  {
   "cell_type": "code",
   "execution_count": 17,
   "id": "5fbb91f9",
   "metadata": {},
   "outputs": [
    {
     "data": {
      "text/plain": [
       "'datasciencedatasciencedatasciencedatasciencedatascience'"
      ]
     },
     "execution_count": 17,
     "metadata": {},
     "output_type": "execute_result"
    }
   ],
   "source": [
    "# if you want to print function multipal time then use * \n",
    "# in * opration we use string then we get muitipal time string\n",
    "s*5"
   ]
  },
  {
   "cell_type": "code",
   "execution_count": 1,
   "id": "ca111aaa",
   "metadata": {},
   "outputs": [
    {
     "data": {
      "text/plain": [
       "24"
      ]
     },
     "execution_count": 1,
     "metadata": {},
     "output_type": "execute_result"
    }
   ],
   "source": [
    "# use intiger then we get ans of multiplication\n",
    "12*2"
   ]
  },
  {
   "cell_type": "raw",
   "id": "084d98c9",
   "metadata": {},
   "source": [
    "8  4  2  1          7^9=14\n",
    "-----------         [8+4+2=14]\n",
    "0  1  1  1\n",
    "1  0  0  1 \n",
    "------------\n",
    "1  1  1  0"
   ]
  },
  {
   "cell_type": "code",
   "execution_count": 15,
   "id": "2dc79a11",
   "metadata": {},
   "outputs": [
    {
     "data": {
      "text/plain": [
       "14"
      ]
     },
     "execution_count": 15,
     "metadata": {},
     "output_type": "execute_result"
    }
   ],
   "source": [
    "7^9"
   ]
  },
  {
   "cell_type": "code",
   "execution_count": 16,
   "id": "0d6bc2d2",
   "metadata": {},
   "outputs": [
    {
     "data": {
      "text/plain": [
       "'python   '"
      ]
     },
     "execution_count": 16,
     "metadata": {},
     "output_type": "execute_result"
    }
   ],
   "source": [
    "# Remove all space left side your word\n",
    "s= \"   python   \"\n",
    "s.lstrip()"
   ]
  },
  {
   "cell_type": "code",
   "execution_count": 17,
   "id": "653d7d54",
   "metadata": {},
   "outputs": [
    {
     "data": {
      "text/plain": [
       "'   python'"
      ]
     },
     "execution_count": 17,
     "metadata": {},
     "output_type": "execute_result"
    }
   ],
   "source": [
    "# Remove all space  right side your word\n",
    "s.rstrip()"
   ]
  },
  {
   "cell_type": "code",
   "execution_count": 18,
   "id": "fa737e5f",
   "metadata": {},
   "outputs": [
    {
     "data": {
      "text/plain": [
       "'python'"
      ]
     },
     "execution_count": 18,
     "metadata": {},
     "output_type": "execute_result"
    }
   ],
   "source": [
    "#Remove all space  right side & right sideyour word\n",
    "s.strip()"
   ]
  },
  {
   "cell_type": "markdown",
   "id": "c881b94d",
   "metadata": {},
   "source": [
    "* input function"
   ]
  },
  {
   "cell_type": "code",
   "execution_count": null,
   "id": "825cf9b8",
   "metadata": {},
   "outputs": [],
   "source": [
    "#Every single time i am not fill custmer name & age then\n",
    " # i use input function\n",
    "# default fun is always string\n",
    "# if you want int fun then you also mention before input\n",
    "# fun "
   ]
  },
  {
   "cell_type": "code",
   "execution_count": 19,
   "id": "d135fcf9",
   "metadata": {},
   "outputs": [
    {
     "name": "stdout",
     "output_type": "stream",
     "text": [
      "enter your name :  pallavi\n"
     ]
    }
   ],
   "source": [
    "name = input(\"enter your name :  \")"
   ]
  },
  {
   "cell_type": "code",
   "execution_count": 22,
   "id": "ff5efa8b",
   "metadata": {},
   "outputs": [
    {
     "name": "stdout",
     "output_type": "stream",
     "text": [
      "enter your age : 25\n"
     ]
    }
   ],
   "source": [
    "age = input(\"enter your age : \")"
   ]
  },
  {
   "cell_type": "code",
   "execution_count": 23,
   "id": "f548d3b5",
   "metadata": {},
   "outputs": [
    {
     "data": {
      "text/plain": [
       "'25'"
      ]
     },
     "execution_count": 23,
     "metadata": {},
     "output_type": "execute_result"
    }
   ],
   "source": [
    "age"
   ]
  },
  {
   "cell_type": "code",
   "execution_count": 24,
   "id": "e8eb30e4",
   "metadata": {},
   "outputs": [
    {
     "name": "stdout",
     "output_type": "stream",
     "text": [
      "enter your age = 54\n"
     ]
    }
   ],
   "source": [
    "# if your ans show in string but you want int then use \n",
    "# int befour your input function\n",
    "\n",
    "age = int(input(\"enter your age = \"))"
   ]
  },
  {
   "cell_type": "code",
   "execution_count": 25,
   "id": "f2d387bf",
   "metadata": {},
   "outputs": [
    {
     "data": {
      "text/plain": [
       "54"
      ]
     },
     "execution_count": 25,
     "metadata": {},
     "output_type": "execute_result"
    }
   ],
   "source": [
    "age"
   ]
  },
  {
   "cell_type": "code",
   "execution_count": 26,
   "id": "2b1e581b",
   "metadata": {},
   "outputs": [],
   "source": [
    "s= \"pythondatascincepythondatascincepythondatascince\""
   ]
  },
  {
   "cell_type": "code",
   "execution_count": 28,
   "id": "49dbb122",
   "metadata": {},
   "outputs": [
    {
     "data": {
      "text/plain": [
       "0"
      ]
     },
     "execution_count": 28,
     "metadata": {},
     "output_type": "execute_result"
    }
   ],
   "source": [
    "s.find(\"py\")"
   ]
  },
  {
   "cell_type": "code",
   "execution_count": 27,
   "id": "a877f818",
   "metadata": {},
   "outputs": [
    {
     "data": {
      "text/plain": [
       "-1"
      ]
     },
     "execution_count": 27,
     "metadata": {},
     "output_type": "execute_result"
    }
   ],
   "source": [
    "# if you want find samthing but this is not available then in default they shwo -1\n",
    "s.find(\"oca\")"
   ]
  },
  {
   "cell_type": "code",
   "execution_count": 29,
   "id": "de59c938",
   "metadata": {},
   "outputs": [
    {
     "data": {
      "text/plain": [
       "3"
      ]
     },
     "execution_count": 29,
     "metadata": {},
     "output_type": "execute_result"
    }
   ],
   "source": [
    "# if you want count samthing then use count function\n",
    "s.count(\"th\")"
   ]
  },
  {
   "cell_type": "code",
   "execution_count": 30,
   "id": "fa1447b2",
   "metadata": {},
   "outputs": [
    {
     "data": {
      "text/plain": [
       "['python',\n",
       " 'data',\n",
       " 'scince',\n",
       " 'python',\n",
       " 'data',\n",
       " 'scince',\n",
       " 'python',\n",
       " 'data',\n",
       " 'scince']"
      ]
     },
     "execution_count": 30,
     "metadata": {},
     "output_type": "execute_result"
    }
   ],
   "source": [
    "# s.split fun use for to seprate each word\n",
    "s= \"python data scince python data scince python data scince\"\n",
    "s.split(\" \")"
   ]
  },
  {
   "cell_type": "code",
   "execution_count": 9,
   "id": "d8aff0c4",
   "metadata": {},
   "outputs": [
    {
     "data": {
      "text/plain": [
       "list"
      ]
     },
     "execution_count": 9,
     "metadata": {},
     "output_type": "execute_result"
    }
   ],
   "source": [
    "type(s.split(\" \"))"
   ]
  },
  {
   "cell_type": "code",
   "execution_count": 31,
   "id": "29073f90",
   "metadata": {},
   "outputs": [
    {
     "data": {
      "text/plain": [
       "' data scince python data scince python data scince'"
      ]
     },
     "execution_count": 31,
     "metadata": {},
     "output_type": "execute_result"
    }
   ],
   "source": [
    "# remove the character from the beginning\n",
    "s= \"python data scince python data scince python data scince\"\n",
    "s.strip(\"python\")"
   ]
  },
  {
   "cell_type": "code",
   "execution_count": 33,
   "id": "c819b0e0",
   "metadata": {},
   "outputs": [
    {
     "data": {
      "text/plain": [
       "'python is hard'"
      ]
     },
     "execution_count": 33,
     "metadata": {},
     "output_type": "execute_result"
    }
   ],
   "source": [
    "# i want to replace samthing then use s.replace(..) fun\n",
    "s= \"python is easy\"\n",
    "n=\"hard\"\n",
    "s1=s.replace(\"easy\",n)\n",
    "s1"
   ]
  },
  {
   "cell_type": "code",
   "execution_count": 34,
   "id": "4bb45179",
   "metadata": {},
   "outputs": [],
   "source": [
    "# if you want join 2 thing with space,symbol then use [t=\" \".join(fun name)]\n",
    "# we write this symbol and space in between \" \"\n",
    "s=(\"c\",\"c++\",\"java\",\"python\",\"datascince\")"
   ]
  },
  {
   "cell_type": "code",
   "execution_count": 37,
   "id": "f6b2a5fd",
   "metadata": {},
   "outputs": [
    {
     "data": {
      "text/plain": [
       "'c c++ java python datascince'"
      ]
     },
     "execution_count": 37,
     "metadata": {},
     "output_type": "execute_result"
    }
   ],
   "source": [
    "t=\" \".join(s)\n",
    "t"
   ]
  },
  {
   "cell_type": "code",
   "execution_count": 38,
   "id": "93800106",
   "metadata": {},
   "outputs": [
    {
     "data": {
      "text/plain": [
       "'c-c++-java-python-datascince'"
      ]
     },
     "execution_count": 38,
     "metadata": {},
     "output_type": "execute_result"
    }
   ],
   "source": [
    "t=\"-\".join(s)\n",
    "t"
   ]
  },
  {
   "cell_type": "code",
   "execution_count": 39,
   "id": "f9664361",
   "metadata": {},
   "outputs": [],
   "source": [
    "s=\"learing python\""
   ]
  },
  {
   "cell_type": "code",
   "execution_count": 40,
   "id": "cc02f8b5",
   "metadata": {},
   "outputs": [
    {
     "data": {
      "text/plain": [
       "'learing python'"
      ]
     },
     "execution_count": 40,
     "metadata": {},
     "output_type": "execute_result"
    }
   ],
   "source": [
    "# if we want  all words in small letters then use [s.lower()]\n",
    "s.lower()"
   ]
  },
  {
   "cell_type": "code",
   "execution_count": 41,
   "id": "1fcc4fde",
   "metadata": {},
   "outputs": [
    {
     "data": {
      "text/plain": [
       "'LEARING PYTHON'"
      ]
     },
     "execution_count": 41,
     "metadata": {},
     "output_type": "execute_result"
    }
   ],
   "source": [
    "# if we want all words in capital letters then use [s.upper()]\n",
    "s.upper()"
   ]
  },
  {
   "cell_type": "code",
   "execution_count": 42,
   "id": "b70f982e",
   "metadata": {},
   "outputs": [
    {
     "data": {
      "text/plain": [
       "'Learing Python'"
      ]
     },
     "execution_count": 42,
     "metadata": {},
     "output_type": "execute_result"
    }
   ],
   "source": [
    "#if we want first letter in capital & next all letters in small letters \n",
    "# then use [s.title()]\n",
    "s.title()"
   ]
  },
  {
   "cell_type": "code",
   "execution_count": 43,
   "id": "9b00b6c9",
   "metadata": {},
   "outputs": [
    {
     "data": {
      "text/plain": [
       "'Learing python'"
      ]
     },
     "execution_count": 43,
     "metadata": {},
     "output_type": "execute_result"
    }
   ],
   "source": [
    "# in [s.capitalize()] this only first word first letter are capital\n",
    "s.capitalize()"
   ]
  },
  {
   "cell_type": "code",
   "execution_count": 40,
   "id": "c64a13ae",
   "metadata": {},
   "outputs": [],
   "source": [
    "s=\"learing python\""
   ]
  },
  {
   "cell_type": "code",
   "execution_count": 42,
   "id": "2f0f3b80",
   "metadata": {},
   "outputs": [
    {
     "data": {
      "text/plain": [
       "'LEARING PYTHON'"
      ]
     },
     "execution_count": 42,
     "metadata": {},
     "output_type": "execute_result"
    }
   ],
   "source": [
    "# if we want all words in capital letters then use [s.swapcase()]\n",
    "s.swapcase()"
   ]
  },
  {
   "cell_type": "code",
   "execution_count": 43,
   "id": "abdd6c45",
   "metadata": {},
   "outputs": [
    {
     "data": {
      "text/plain": [
       "'      learing python     '"
      ]
     },
     "execution_count": 43,
     "metadata": {},
     "output_type": "execute_result"
    }
   ],
   "source": [
    "# if you want write in center then use[s.center(how many space)]\n",
    "s.center(25)"
   ]
  },
  {
   "cell_type": "code",
   "execution_count": 44,
   "id": "fd1b15de",
   "metadata": {},
   "outputs": [
    {
     "data": {
      "text/plain": [
       "'******learing python*****'"
      ]
     },
     "execution_count": 44,
     "metadata": {},
     "output_type": "execute_result"
    }
   ],
   "source": [
    "# if you want any symbol after & before your letter then use[s.center(25 ,\"*\")]\n",
    "s.center(25 ,\"*\")"
   ]
  },
  {
   "cell_type": "code",
   "execution_count": 1,
   "id": "10512a30",
   "metadata": {},
   "outputs": [],
   "source": [
    "s=\"pallavi\""
   ]
  },
  {
   "cell_type": "code",
   "execution_count": 2,
   "id": "e7c55e20",
   "metadata": {},
   "outputs": [
    {
     "data": {
      "text/plain": [
       "False"
      ]
     },
     "execution_count": 2,
     "metadata": {},
     "output_type": "execute_result"
    }
   ],
   "source": [
    "# if we check all thing is correct acording to me then use [s.is..]\n",
    "# if your custemer give sum info but you want in capital lettres then check info using [ s.isupper] fun\n",
    "s.isupper()"
   ]
  },
  {
   "cell_type": "code",
   "execution_count": 3,
   "id": "acea1da9",
   "metadata": {},
   "outputs": [
    {
     "data": {
      "text/plain": [
       "True"
      ]
     },
     "execution_count": 3,
     "metadata": {},
     "output_type": "execute_result"
    }
   ],
   "source": [
    "# if you check info in small letters use[s.islower()]\n",
    "s.islower()"
   ]
  },
  {
   "cell_type": "code",
   "execution_count": 5,
   "id": "dfac97cb",
   "metadata": {},
   "outputs": [
    {
     "data": {
      "text/plain": [
       "False"
      ]
     },
     "execution_count": 5,
     "metadata": {},
     "output_type": "execute_result"
    }
   ],
   "source": [
    "# if you check info in title form then use[s.istitle()]\n",
    "s.istitle()"
   ]
  },
  {
   "cell_type": "code",
   "execution_count": 6,
   "id": "6b9c8aff",
   "metadata": {},
   "outputs": [
    {
     "data": {
      "text/plain": [
       "False"
      ]
     },
     "execution_count": 6,
     "metadata": {},
     "output_type": "execute_result"
    }
   ],
   "source": [
    "# in your fun there are no subject only space is available then to check use [s.isspace()]\n",
    "s.isspace()"
   ]
  },
  {
   "cell_type": "code",
   "execution_count": 11,
   "id": "4e47083a",
   "metadata": {},
   "outputs": [
    {
     "data": {
      "text/plain": [
       "True"
      ]
     },
     "execution_count": 11,
     "metadata": {},
     "output_type": "execute_result"
    }
   ],
   "source": [
    "# to check there is number & word , number or word [s.isalnum()]\n",
    "s=\"abc123\"\n",
    "s.isalnum()"
   ]
  },
  {
   "cell_type": "code",
   "execution_count": 13,
   "id": "58e62656",
   "metadata": {},
   "outputs": [
    {
     "data": {
      "text/plain": [
       "True"
      ]
     },
     "execution_count": 13,
     "metadata": {},
     "output_type": "execute_result"
    }
   ],
   "source": [
    "#to check there is number [s.isdigit()]\n",
    "s=\"22\"\n",
    "s.isdigit()"
   ]
  },
  {
   "cell_type": "code",
   "execution_count": 14,
   "id": "a17404a5",
   "metadata": {},
   "outputs": [
    {
     "data": {
      "text/plain": [
       "False"
      ]
     },
     "execution_count": 14,
     "metadata": {},
     "output_type": "execute_result"
    }
   ],
   "source": [
    "# to check there is alphabetical(in word)  [s.isalpha()]\n",
    "s.isalpha()"
   ]
  },
  {
   "cell_type": "code",
   "execution_count": 15,
   "id": "d0a8459e",
   "metadata": {},
   "outputs": [],
   "source": [
    "# to check fun start with .....[s.startswith(\"..\")]\n",
    "s=\"python\"\n",
    "s.startswith(\"py\")"
   ]
  },
  {
   "cell_type": "code",
   "execution_count": 18,
   "id": "af0fa8b9",
   "metadata": {},
   "outputs": [
    {
     "data": {
      "text/plain": [
       "True"
      ]
     },
     "execution_count": 18,
     "metadata": {},
     "output_type": "execute_result"
    }
   ],
   "source": [
    "# to check fun end with .....[s.endswith(\"..\")]\n",
    "s.endswith(\"on\")"
   ]
  },
  {
   "cell_type": "code",
   "execution_count": 46,
   "id": "afcbec1c",
   "metadata": {},
   "outputs": [
    {
     "data": {
      "text/plain": [
       "True"
      ]
     },
     "execution_count": 46,
     "metadata": {},
     "output_type": "execute_result"
    }
   ],
   "source": [
    "# To check particular word in given string\n",
    "s=\"python learning\"\n",
    "\"python \"in s"
   ]
  },
  {
   "cell_type": "code",
   "execution_count": 47,
   "id": "d986e7cf",
   "metadata": {},
   "outputs": [
    {
     "data": {
      "text/plain": [
       "False"
      ]
     },
     "execution_count": 47,
     "metadata": {},
     "output_type": "execute_result"
    }
   ],
   "source": [
    "\"python \" not in s"
   ]
  }
 ],
 "metadata": {
  "kernelspec": {
   "display_name": "Python 3 (ipykernel)",
   "language": "python",
   "name": "python3"
  },
  "language_info": {
   "codemirror_mode": {
    "name": "ipython",
    "version": 3
   },
   "file_extension": ".py",
   "mimetype": "text/x-python",
   "name": "python",
   "nbconvert_exporter": "python",
   "pygments_lexer": "ipython3",
   "version": "3.9.12"
  }
 },
 "nbformat": 4,
 "nbformat_minor": 5
}
