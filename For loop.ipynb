{
 "cells": [
  {
   "cell_type": "markdown",
   "id": "e541b1bf",
   "metadata": {},
   "source": [
    " * \"For\" Loop is used to repeat a specific block of code a known number of times. "
   ]
  },
  {
   "cell_type": "code",
   "execution_count": 1,
   "id": "f5893dad",
   "metadata": {},
   "outputs": [
    {
     "name": "stdout",
     "output_type": "stream",
     "text": [
      "10\n",
      "20\n",
      "30\n",
      "40\n",
      "50\n",
      "60\n",
      "70\n",
      "80\n",
      "90\n"
     ]
    }
   ],
   "source": [
    "# If you have list and you want single single numbers in list\n",
    "\n",
    "l = [10,20,30,40,50,60,70,80,90]\n",
    "for i in l:\n",
    "    print(i)"
   ]
  },
  {
   "cell_type": "code",
   "execution_count": 2,
   "id": "c3ece168",
   "metadata": {},
   "outputs": [
    {
     "name": "stdout",
     "output_type": "stream",
     "text": [
      "10 20 30 40 50 60 70 80 90 "
     ]
    }
   ],
   "source": [
    "# if you want your first loop end with space (by default end=\"/n\")\n",
    "l = [10,20,30,40,50,60,70,80,90]\n",
    "for i in l:\n",
    "    print(i,end=\" \")"
   ]
  },
  {
   "cell_type": "code",
   "execution_count": 5,
   "id": "d07d30aa",
   "metadata": {},
   "outputs": [
    {
     "name": "stdout",
     "output_type": "stream",
     "text": [
      "10\n",
      "20\n",
      "30\n",
      "40\n",
      "50\n"
     ]
    }
   ],
   "source": [
    "#  break - when break keyword is encountered, it will exit the loop.\n",
    "# if i want to number up to 50\n",
    "# i want breck number up to 50\n",
    "for i in l:\n",
    "    print(i)\n",
    "    if i==50:\n",
    "        break"
   ]
  },
  {
   "cell_type": "code",
   "execution_count": 10,
   "id": "ea6f38a2",
   "metadata": {},
   "outputs": [
    {
     "name": "stdout",
     "output_type": "stream",
     "text": [
      "key = value\n",
      "name = pallavi\n",
      "contact = 12345\n"
     ]
    }
   ],
   "source": [
    "# if you want to print dictionary in for loop\n",
    "d = {\"key\":\"value\",\"name\":\"pallavi\",\"contact\":\"12345\"}\n",
    "for i in d:\n",
    "    print(i ,\"=\",d[i])"
   ]
  },
  {
   "cell_type": "code",
   "execution_count": 11,
   "id": "b9d74a7a",
   "metadata": {},
   "outputs": [
    {
     "name": "stdout",
     "output_type": "stream",
     "text": [
      "p\n",
      "y\n",
      "t\n",
      "h\n",
      "o\n",
      "n\n"
     ]
    }
   ],
   "source": [
    "# if you want to print string in for loop\n",
    "s=\"python\"\n",
    "for i in s:\n",
    "    print(i)"
   ]
  },
  {
   "cell_type": "markdown",
   "id": "c33dccf2",
   "metadata": {},
   "source": [
    "* range function (start : end :step) (slicing function )"
   ]
  },
  {
   "cell_type": "code",
   "execution_count": 13,
   "id": "7bac17ca",
   "metadata": {},
   "outputs": [
    {
     "name": "stdout",
     "output_type": "stream",
     "text": [
      "1\n",
      "2\n",
      "3\n",
      "4\n",
      "5\n",
      "6\n",
      "7\n",
      "8\n",
      "9\n",
      "10\n"
     ]
    }
   ],
   "source": [
    "# To get numbers between 1 to 11\n",
    "for i in range(1,11):\n",
    "    print(i)"
   ]
  },
  {
   "cell_type": "code",
   "execution_count": 15,
   "id": "0bb45af1",
   "metadata": {},
   "outputs": [
    {
     "name": "stdout",
     "output_type": "stream",
     "text": [
      "0 1 2 3 4 5 6 7 8 9 "
     ]
    }
   ],
   "source": [
    "# i want to 10 samples( starting from 0 by default)\n",
    "for i in range(10):\n",
    "    print(i,end=\" \")"
   ]
  },
  {
   "cell_type": "code",
   "execution_count": 16,
   "id": "048c8bc1",
   "metadata": {},
   "outputs": [
    {
     "name": "stdout",
     "output_type": "stream",
     "text": [
      "10 12 14 16 18 20 22 24 26 28 "
     ]
    }
   ],
   "source": [
    "# i want samples with step 2\n",
    "for i in range(10,30,2):\n",
    "    print(i,end=\" \")"
   ]
  },
  {
   "cell_type": "code",
   "execution_count": 20,
   "id": "f0ca07bf",
   "metadata": {},
   "outputs": [
    {
     "name": "stdout",
     "output_type": "stream",
     "text": [
      "0 : 10\n",
      "1 : 20\n",
      "2 : 30\n",
      "3 : 40\n",
      "4 : 50\n",
      "5 : 60\n",
      "6 : 70\n",
      "7 : 80\n"
     ]
    }
   ],
   "source": [
    "# i want to check index number with print values\n",
    "l = [10,20,30,40,50,60,70,80,90]\n",
    "for i in range(8):\n",
    "    print(i,\":\",l[i])\n"
   ]
  },
  {
   "cell_type": "code",
   "execution_count": 22,
   "id": "b5a2be19",
   "metadata": {},
   "outputs": [
    {
     "name": "stdout",
     "output_type": "stream",
     "text": [
      "0 : 10\n",
      "1 : 20\n",
      "2 : 30\n",
      "3 : 40\n",
      "4 : 50\n",
      "5 : 60\n",
      "6 : 70\n",
      "7 : 80\n",
      "8 : 90\n",
      "9 : 56\n",
      "10 : 5\n",
      "11 : 6\n"
     ]
    }
   ],
   "source": [
    "# i want to give number in range braket multipal time because len of l is not constant\n",
    "l = [10,20,30,40,50,60,70,80,90,56,5,6]\n",
    "len(l)\n",
    "for i in range(len(l)):\n",
    "    print(i,\":\",l[i])\n"
   ]
  },
  {
   "cell_type": "code",
   "execution_count": 26,
   "id": "2cc0904d",
   "metadata": {},
   "outputs": [
    {
     "name": "stdout",
     "output_type": "stream",
     "text": [
      "a\n",
      "s\n",
      "d\n",
      "f\n",
      "g\n",
      "h\n",
      "j\n",
      "k\n",
      "l\n"
     ]
    }
   ],
   "source": [
    "s=\"asdfghjkl\"\n",
    "for i in (s):\n",
    "    print(i)"
   ]
  },
  {
   "cell_type": "code",
   "execution_count": 29,
   "id": "dc351cc8",
   "metadata": {},
   "outputs": [
    {
     "name": "stdout",
     "output_type": "stream",
     "text": [
      "3 x 1 = 3\n",
      "3 x 2 = 6\n",
      "3 x 3 = 9\n",
      "3 x 4 = 12\n",
      "3 x 5 = 15\n",
      "3 x 6 = 18\n",
      "3 x 7 = 21\n",
      "3 x 8 = 24\n",
      "3 x 9 = 27\n",
      "3 x 10 = 30\n"
     ]
    }
   ],
   "source": [
    "# To create table of 3 using for loop\n",
    "for i in range(1,11):\n",
    "    print(3,\"x\",i,\"=\",i*3)"
   ]
  },
  {
   "cell_type": "code",
   "execution_count": 30,
   "id": "8e0a362b",
   "metadata": {},
   "outputs": [
    {
     "name": "stdout",
     "output_type": "stream",
     "text": [
      "Enter a number for multiplication : 6\n",
      "6 x 1 = 6\n",
      "6 x 2 = 12\n",
      "6 x 3 = 18\n",
      "6 x 4 = 24\n",
      "6 x 5 = 30\n",
      "6 x 6 = 36\n",
      "6 x 7 = 42\n",
      "6 x 8 = 48\n",
      "6 x 9 = 54\n",
      "6 x 10 = 60\n"
     ]
    }
   ],
   "source": [
    "s = int(input(\"Enter a number for multiplication : \"))\n",
    "for i in range(1,11):\n",
    "    print(s,\"x\",i,\"=\",i*s)"
   ]
  },
  {
   "cell_type": "code",
   "execution_count": null,
   "id": "86086d7f",
   "metadata": {},
   "outputs": [],
   "source": []
  }
 ],
 "metadata": {
  "kernelspec": {
   "display_name": "Python 3 (ipykernel)",
   "language": "python",
   "name": "python3"
  },
  "language_info": {
   "codemirror_mode": {
    "name": "ipython",
    "version": 3
   },
   "file_extension": ".py",
   "mimetype": "text/x-python",
   "name": "python",
   "nbconvert_exporter": "python",
   "pygments_lexer": "ipython3",
   "version": "3.9.12"
  }
 },
 "nbformat": 4,
 "nbformat_minor": 5
}
