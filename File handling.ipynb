{
 "cells": [
  {
   "cell_type": "markdown",
   "id": "81e082ec",
   "metadata": {},
   "source": [
    " mode in file handling\n",
    " * read 'r' -\n",
    " * write 'w' -\n",
    " * append 'a' -\n",
    " * create 'x' -"
   ]
  },
  {
   "cell_type": "raw",
   "id": "a5b95f03",
   "metadata": {},
   "source": [
    "('abc.txt','r') - if avaiblable it will open or else i will get error\n",
    "('abc.txt','w') -if avaiblable it will open or else it will create a new file of this name\n",
    "('abc.txt','a') -if avaiblable it will open or else it will create a new file of this name \n",
    "('abc.txt','x') - if avaiblable then i will get error"
   ]
  },
  {
   "cell_type": "code",
   "execution_count": 9,
   "id": "00d2ed5e",
   "metadata": {},
   "outputs": [],
   "source": [
    "# if you want open file\n",
    "f= open('abc.txt','w')\n",
    "f1= open('abc1.txt','w')"
   ]
  },
  {
   "cell_type": "code",
   "execution_count": 10,
   "id": "3d018e4b",
   "metadata": {},
   "outputs": [
    {
     "ename": "FileExistsError",
     "evalue": "[Errno 17] File exists: 'abc2.txt'",
     "output_type": "error",
     "traceback": [
      "\u001b[1;31m---------------------------------------------------------------------------\u001b[0m",
      "\u001b[1;31mFileExistsError\u001b[0m                           Traceback (most recent call last)",
      "Input \u001b[1;32mIn [10]\u001b[0m, in \u001b[0;36m<cell line: 2>\u001b[1;34m()\u001b[0m\n\u001b[0;32m      1\u001b[0m \u001b[38;5;66;03m# if avaiblable then i will get error\u001b[39;00m\n\u001b[1;32m----> 2\u001b[0m f2\u001b[38;5;241m=\u001b[39m\u001b[38;5;28;43mopen\u001b[39;49m\u001b[43m(\u001b[49m\u001b[38;5;124;43m'\u001b[39;49m\u001b[38;5;124;43mabc2.txt\u001b[39;49m\u001b[38;5;124;43m'\u001b[39;49m\u001b[43m,\u001b[49m\u001b[38;5;124;43m'\u001b[39;49m\u001b[38;5;124;43mx\u001b[39;49m\u001b[38;5;124;43m'\u001b[39;49m\u001b[43m)\u001b[49m\n",
      "\u001b[1;31mFileExistsError\u001b[0m: [Errno 17] File exists: 'abc2.txt'"
     ]
    }
   ],
   "source": [
    "# if avaiblable then i will get error\n",
    "f2=open('abc2.txt','x')"
   ]
  },
  {
   "cell_type": "code",
   "execution_count": 11,
   "id": "3a0ecbf8",
   "metadata": {},
   "outputs": [],
   "source": [
    "\n",
    "# whenever you open in read mode then you cant write anything\n",
    "# if you want to write something then you can open in write mode"
   ]
  },
  {
   "cell_type": "code",
   "execution_count": 12,
   "id": "7e84f97f",
   "metadata": {},
   "outputs": [
    {
     "data": {
      "text/plain": [
       "20"
      ]
     },
     "execution_count": 12,
     "metadata": {},
     "output_type": "execute_result"
    }
   ],
   "source": [
    "# whenever you something write then use [f.writ()]\n",
    "f1.write(\"this is python class\")"
   ]
  },
  {
   "cell_type": "code",
   "execution_count": 13,
   "id": "80500b03",
   "metadata": {},
   "outputs": [],
   "source": [
    "# every time you see write mode then first close file and see\n",
    "f1.close()"
   ]
  },
  {
   "cell_type": "code",
   "execution_count": 14,
   "id": "f2d3f5bb",
   "metadata": {},
   "outputs": [],
   "source": [
    "k=open('xyz.txt','a')\n",
    "k.write(\"hello friends\")\n",
    "k.close()"
   ]
  },
  {
   "cell_type": "code",
   "execution_count": 15,
   "id": "5e7987e8",
   "metadata": {},
   "outputs": [],
   "source": [
    "# if you want write next line then use [\\n]\n",
    "k=open('xyz.txt','a')\n",
    "k.write(\"good morning  friends \\n\")\n",
    "k.close()"
   ]
  },
  {
   "cell_type": "code",
   "execution_count": 16,
   "id": "9bf405c2",
   "metadata": {},
   "outputs": [],
   "source": [
    "# two type of file handling\n",
    "# 1] txt file - (rt) means open text format\n",
    "# 2]binary file -(rb) means open binary format(eg. image)"
   ]
  },
  {
   "cell_type": "code",
   "execution_count": 18,
   "id": "a986aa63",
   "metadata": {},
   "outputs": [],
   "source": [
    "# for example\n",
    "l=[1,2,3,4,5,6,7,8,9]\n",
    "l1=[1,2,3,4,5,6,7,8,9,1,2,3,4,5,6,7,8,9]\n",
    "\n",
    "f1=open('demo.txt','a')\n",
    "f1.write(\"input info : \")\n",
    "f1.write(str(l))\n",
    "f1.write(\"\\n output info : \")\n",
    "f1.write(str(l1))\n",
    "f1.write('\\n completed')\n",
    "f1.close()"
   ]
  },
  {
   "cell_type": "code",
   "execution_count": 19,
   "id": "282c9a33",
   "metadata": {},
   "outputs": [
    {
     "data": {
      "text/plain": [
       "'input info : input info : [1, 2, 3, 4, 5, 6, 7, 8, 9]\\noutput info : [1, 2, 3, 4, 5, 6, 7, 8, 9, 1, 2, 3, 4, 5, 6, 7, 8, 9]\\ncompletedinput info : [1, 2, 3, 4, 5, 6, 7, 8, 9]\\noutput info : [1, 2, 3, 4, 5, 6, 7, 8, 9, 1, 2, 3, 4, 5, 6, 7, 8, 9]\\ncompletedinput info : input info : [1, 2, 3, 4, 5, 6, 7, 8, 9]\\noutput info : [1, 2, 3, 4, 5, 6, 7, 8, 9, 1, 2, 3, 4, 5, 6, 7, 8, 9]\\ncompletedinput info : input info : [1, 2, 3, 4, 5, 6, 7, 8, 9]\\n output info : [1, 2, 3, 4, 5, 6, 7, 8, 9, 1, 2, 3, 4, 5, 6, 7, 8, 9]\\n completedinput info : [1, 2, 3, 4, 5, 6, 7, 8, 9]\\n output info : [1, 2, 3, 4, 5, 6, 7, 8, 9, 1, 2, 3, 4, 5, 6, 7, 8, 9]\\n completed'"
      ]
     },
     "execution_count": 19,
     "metadata": {},
     "output_type": "execute_result"
    }
   ],
   "source": [
    "# open file f1 & read\n",
    "f1=open('demo.txt','r')\n",
    "f1.read()"
   ]
  },
  {
   "cell_type": "code",
   "execution_count": 20,
   "id": "505c332d",
   "metadata": {},
   "outputs": [],
   "source": [
    "# open file & write something\n",
    "f1= open('abc1.txt','a')\n",
    "\n",
    "f1.write(\"this is python class\\n\")\n",
    "f1.close()"
   ]
  },
  {
   "cell_type": "code",
   "execution_count": 21,
   "id": "960194c3",
   "metadata": {},
   "outputs": [
    {
     "data": {
      "text/plain": [
       "'this is python classthis is python class\\n'"
      ]
     },
     "execution_count": 21,
     "metadata": {},
     "output_type": "execute_result"
    }
   ],
   "source": [
    "# read above file\n",
    "f1= open('abc1.txt','r')\n",
    "f1.read()"
   ]
  },
  {
   "cell_type": "code",
   "execution_count": 22,
   "id": "0887631d",
   "metadata": {},
   "outputs": [
    {
     "data": {
      "text/plain": [
       "42"
      ]
     },
     "execution_count": 22,
     "metadata": {},
     "output_type": "execute_result"
    }
   ],
   "source": [
    "# tell current position of pointer in f1 file\n",
    "f1.tell()"
   ]
  },
  {
   "cell_type": "code",
   "execution_count": 23,
   "id": "4c4f7759",
   "metadata": {},
   "outputs": [],
   "source": [
    "# file open,write and read using file handling\n",
    "try:\n",
    "    def fileopen(filename=str,mode=str):\n",
    "        try:\n",
    "            f = open(filename,mode)\n",
    "            f.write(\"This is my file\")\n",
    "            f.close()\n",
    "            \n",
    "        except excepion as e:\n",
    "        \n",
    "            print(e)\n",
    "    fileopen('xyz.txt','w')        \n",
    "\n",
    "except exception as e:\n",
    "    print(e)"
   ]
  },
  {
   "cell_type": "code",
   "execution_count": 24,
   "id": "2beaf1cd",
   "metadata": {},
   "outputs": [
    {
     "data": {
      "text/plain": [
       "''"
      ]
     },
     "execution_count": 24,
     "metadata": {},
     "output_type": "execute_result"
    }
   ],
   "source": [
    "# Returns one line from the file\n",
    "f1.readline()"
   ]
  },
  {
   "cell_type": "code",
   "execution_count": 25,
   "id": "7d08e710",
   "metadata": {},
   "outputs": [
    {
     "data": {
      "text/plain": [
       "1"
      ]
     },
     "execution_count": 25,
     "metadata": {},
     "output_type": "execute_result"
    }
   ],
   "source": [
    "# move the file pointer to the specified position of the file\n",
    "f1.seek(1)"
   ]
  },
  {
   "cell_type": "code",
   "execution_count": 26,
   "id": "5420ca04",
   "metadata": {},
   "outputs": [
    {
     "data": {
      "text/plain": [
       "'his is python classthis is python class\\n'"
      ]
     },
     "execution_count": 26,
     "metadata": {},
     "output_type": "execute_result"
    }
   ],
   "source": [
    "# Returns one line from the file\n",
    "f1.readline()"
   ]
  },
  {
   "cell_type": "code",
   "execution_count": 27,
   "id": "f7bd5070",
   "metadata": {},
   "outputs": [
    {
     "name": "stdout",
     "output_type": "stream",
     "text": [
      "this is python classthis is python class\n",
      "\n"
     ]
    }
   ],
   "source": [
    "try:\n",
    "    def readline(number):\n",
    "        try:\n",
    "            f1= open('abc1.txt','r')\n",
    "            print(f1.readline())\n",
    "        except Exception as e:\n",
    "            print(e)\n",
    "    readline(f1)\n",
    "except Exception as e:\n",
    "        print(e)\n",
    "      "
   ]
  },
  {
   "cell_type": "code",
   "execution_count": 28,
   "id": "efdc76d7",
   "metadata": {},
   "outputs": [
    {
     "name": "stdout",
     "output_type": "stream",
     "text": [
      "Python is  programming language\n",
      "\n"
     ]
    }
   ],
   "source": [
    "# open file and read\n",
    "P=open(\"lmn.txt\",\"r\")\n",
    "print(P.read())"
   ]
  },
  {
   "cell_type": "code",
   "execution_count": 29,
   "id": "02260d6a",
   "metadata": {},
   "outputs": [
    {
     "name": "stdout",
     "output_type": "stream",
     "text": [
      "not writable\n"
     ]
    }
   ],
   "source": [
    "# open file and write  using file handling also read this file\n",
    "P=open(\"lmn.txt\",\"a\")\n",
    "try:\n",
    "    def fileopen(filename=str,mode=str):\n",
    "        try:\n",
    "            P=open(filename,mode)\n",
    "           \n",
    "            P.write(\"Python is  programming language\\n\")\n",
    "            P.close()\n",
    "            \n",
    "            P=open(\"lmn.txt\",\"w\")\n",
    "            print(P.read())   \n",
    "            \n",
    "        except Exception as e:\n",
    "            print(e)\n",
    "    fileopen(\"lmn.txt\",\"r\")      \n",
    "except Exception as e:\n",
    "        print(e)\n",
    "        "
   ]
  },
  {
   "cell_type": "code",
   "execution_count": 30,
   "id": "e9610935",
   "metadata": {},
   "outputs": [],
   "source": [
    "try:\n",
    "    def fileopen(filename=str,mode=str):\n",
    "        try:\n",
    "            f = open(filename,mode)\n",
    "            f.write(\"This is my file\")\n",
    "            f.close()\n",
    "            \n",
    "        except excepion as e:\n",
    "            print(e)\n",
    "    fileopen('xyz.txt','w')        \n",
    "\n",
    "except exception as e:\n",
    "    print(e)"
   ]
  }
 ],
 "metadata": {
  "kernelspec": {
   "display_name": "Python 3 (ipykernel)",
   "language": "python",
   "name": "python3"
  },
  "language_info": {
   "codemirror_mode": {
    "name": "ipython",
    "version": 3
   },
   "file_extension": ".py",
   "mimetype": "text/x-python",
   "name": "python",
   "nbconvert_exporter": "python",
   "pygments_lexer": "ipython3",
   "version": "3.9.12"
  }
 },
 "nbformat": 4,
 "nbformat_minor": 5
}
