{
 "cells": [
  {
   "cell_type": "markdown",
   "id": "db903055",
   "metadata": {},
   "source": [
    "* A while loop will run a piece of code while a condition is True. "
   ]
  },
  {
   "cell_type": "raw",
   "id": "862a526c",
   "metadata": {},
   "source": [
    "Basic format of while loop\n",
    "\n",
    "initialization\n",
    "while(condition):\n",
    "    execution\n",
    "    increment/decrement\n"
   ]
  },
  {
   "cell_type": "code",
   "execution_count": 1,
   "id": "d2c655b4",
   "metadata": {},
   "outputs": [
    {
     "name": "stdout",
     "output_type": "stream",
     "text": [
      "1\n",
      "2\n",
      "3\n",
      "4\n",
      "5\n",
      "6\n",
      "7\n",
      "8\n",
      "9\n",
      "10\n"
     ]
    }
   ],
   "source": [
    "i = 1\n",
    "while i<=10:\n",
    "    print(i)\n",
    "    i+=1"
   ]
  },
  {
   "cell_type": "code",
   "execution_count": 13,
   "id": "234b79eb",
   "metadata": {},
   "outputs": [
    {
     "name": "stdout",
     "output_type": "stream",
     "text": [
      "10 20 30 40 50 60 70 80 90 "
     ]
    }
   ],
   "source": [
    "l=[10,20,30,40,50,60,70,80,90]\n",
    "i = 0\n",
    "while i <len(l):\n",
    "    print(l[i],end=\" \")\n",
    "    i+=1"
   ]
  },
  {
   "cell_type": "code",
   "execution_count": 12,
   "id": "896afc1e",
   "metadata": {},
   "outputs": [
    {
     "name": "stdout",
     "output_type": "stream",
     "text": [
      "90 80 70 60 50 40 30 20 10 "
     ]
    }
   ],
   "source": [
    "# reverse of above\n",
    "i = -1\n",
    "while i>=-len(l):\n",
    "    print(l[i],end=\" \")\n",
    "    i-=1"
   ]
  },
  {
   "cell_type": "code",
   "execution_count": null,
   "id": "52c1269d",
   "metadata": {},
   "outputs": [],
   "source": []
  }
 ],
 "metadata": {
  "kernelspec": {
   "display_name": "Python 3 (ipykernel)",
   "language": "python",
   "name": "python3"
  },
  "language_info": {
   "codemirror_mode": {
    "name": "ipython",
    "version": 3
   },
   "file_extension": ".py",
   "mimetype": "text/x-python",
   "name": "python",
   "nbconvert_exporter": "python",
   "pygments_lexer": "ipython3",
   "version": "3.9.12"
  }
 },
 "nbformat": 4,
 "nbformat_minor": 5
}
