{
 "cells": [
  {
   "cell_type": "code",
   "execution_count": 72,
   "id": "c0e35b4f",
   "metadata": {},
   "outputs": [
    {
     "data": {
      "text/plain": [
       "dict"
      ]
     },
     "execution_count": 72,
     "metadata": {},
     "output_type": "execute_result"
    }
   ],
   "source": [
    "d={}\n",
    "type(d)"
   ]
  },
  {
   "cell_type": "code",
   "execution_count": 73,
   "id": "29ce85ba",
   "metadata": {},
   "outputs": [],
   "source": [
    "# Basic format of Dictionary\n",
    "d={'key':'value'}"
   ]
  },
  {
   "cell_type": "code",
   "execution_count": 74,
   "id": "2d9ae2f5",
   "metadata": {},
   "outputs": [],
   "source": [
    "d = {'name' : 'Pallavi','age' : 22,'email' : 'pallavi@gmail.com'}"
   ]
  },
  {
   "cell_type": "code",
   "execution_count": 75,
   "id": "0617a7b5",
   "metadata": {},
   "outputs": [
    {
     "data": {
      "text/plain": [
       "{'name': 'Pallavi', 'age': 22, 'email': 'pallavi@gmail.com'}"
      ]
     },
     "execution_count": 75,
     "metadata": {},
     "output_type": "execute_result"
    }
   ],
   "source": [
    "d"
   ]
  },
  {
   "cell_type": "code",
   "execution_count": 76,
   "id": "26350b63",
   "metadata": {},
   "outputs": [
    {
     "data": {
      "text/plain": [
       "'Pallavi'"
      ]
     },
     "execution_count": 76,
     "metadata": {},
     "output_type": "execute_result"
    }
   ],
   "source": [
    "# Returns the value of the specified key\n",
    "d['name']"
   ]
  },
  {
   "cell_type": "code",
   "execution_count": 77,
   "id": "9528476f",
   "metadata": {},
   "outputs": [
    {
     "data": {
      "text/plain": [
       "{'name': 'Anuja', 'age': 22, 'email': 'pallavi@gmail.com'}"
      ]
     },
     "execution_count": 77,
     "metadata": {},
     "output_type": "execute_result"
    }
   ],
   "source": [
    "# To Replace value in dictionary\n",
    "d['name'] = 'Anuja'\n",
    "d"
   ]
  },
  {
   "cell_type": "code",
   "execution_count": 78,
   "id": "5c680a33",
   "metadata": {},
   "outputs": [
    {
     "data": {
      "text/plain": [
       "{'name': 'Anuja', 'age': 22, 'email': 'pallavi@gmail.com', 'Phone': 9876543215}"
      ]
     },
     "execution_count": 78,
     "metadata": {},
     "output_type": "execute_result"
    }
   ],
   "source": [
    "# To add new key & value\n",
    "d['Phone'] =9876543215\n",
    "d"
   ]
  },
  {
   "cell_type": "code",
   "execution_count": 79,
   "id": "78974479",
   "metadata": {},
   "outputs": [
    {
     "data": {
      "text/plain": [
       "'Anuja'"
      ]
     },
     "execution_count": 79,
     "metadata": {},
     "output_type": "execute_result"
    }
   ],
   "source": [
    "# Returns the value of the specified key\n",
    "d.get('name')"
   ]
  },
  {
   "cell_type": "code",
   "execution_count": 80,
   "id": "a3dfcabe",
   "metadata": {},
   "outputs": [
    {
     "data": {
      "text/plain": [
       "True"
      ]
     },
     "execution_count": 80,
     "metadata": {},
     "output_type": "execute_result"
    }
   ],
   "source": [
    "# membership\n",
    "'Anuja' in d['name']"
   ]
  },
  {
   "cell_type": "code",
   "execution_count": 81,
   "id": "03846fa5",
   "metadata": {},
   "outputs": [],
   "source": [
    "d = {'name' : 'Pallavi','age' : 22,'skills' : ['python','java','html']}"
   ]
  },
  {
   "cell_type": "code",
   "execution_count": 82,
   "id": "877a766d",
   "metadata": {},
   "outputs": [
    {
     "data": {
      "text/plain": [
       "'html'"
      ]
     },
     "execution_count": 82,
     "metadata": {},
     "output_type": "execute_result"
    }
   ],
   "source": [
    "# To check what is skill on 2nd number \n",
    "d['skills'][2]"
   ]
  },
  {
   "cell_type": "code",
   "execution_count": 83,
   "id": "ce22fa7b",
   "metadata": {},
   "outputs": [],
   "source": [
    "d = {'name' : 'Pallavi','age' : 22,'skills' : {'ds':'python','web':'html'}}"
   ]
  },
  {
   "cell_type": "code",
   "execution_count": 84,
   "id": "8af85bfe",
   "metadata": {},
   "outputs": [
    {
     "data": {
      "text/plain": [
       "'python'"
      ]
     },
     "execution_count": 84,
     "metadata": {},
     "output_type": "execute_result"
    }
   ],
   "source": [
    "# to check what is inside of 'ds' of skills in dictionary\n",
    "d['skills']['ds']"
   ]
  },
  {
   "cell_type": "code",
   "execution_count": 85,
   "id": "0763fc10",
   "metadata": {},
   "outputs": [],
   "source": [
    "# To remove key\n",
    "del d['skills']"
   ]
  },
  {
   "cell_type": "code",
   "execution_count": 86,
   "id": "77d4a03c",
   "metadata": {},
   "outputs": [
    {
     "data": {
      "text/plain": [
       "{'name': 'Pallavi', 'age': 22}"
      ]
     },
     "execution_count": 86,
     "metadata": {},
     "output_type": "execute_result"
    }
   ],
   "source": [
    "d"
   ]
  },
  {
   "cell_type": "code",
   "execution_count": 87,
   "id": "0aabe5fa",
   "metadata": {},
   "outputs": [
    {
     "data": {
      "text/plain": [
       "22"
      ]
     },
     "execution_count": 87,
     "metadata": {},
     "output_type": "execute_result"
    }
   ],
   "source": [
    "# To remove specific key\n",
    "d.pop('age')"
   ]
  },
  {
   "cell_type": "code",
   "execution_count": 88,
   "id": "217046b5",
   "metadata": {},
   "outputs": [
    {
     "data": {
      "text/plain": [
       "{'name': 'Pallavi'}"
      ]
     },
     "execution_count": 88,
     "metadata": {},
     "output_type": "execute_result"
    }
   ],
   "source": [
    "d"
   ]
  },
  {
   "cell_type": "code",
   "execution_count": 92,
   "id": "fbd6d7b8",
   "metadata": {},
   "outputs": [
    {
     "data": {
      "text/plain": [
       "{}"
      ]
     },
     "execution_count": 92,
     "metadata": {},
     "output_type": "execute_result"
    }
   ],
   "source": [
    "# Removes all the elements from the dictionary\n",
    "d.clear()\n",
    "d"
   ]
  },
  {
   "cell_type": "code",
   "execution_count": 93,
   "id": "0938f4e5",
   "metadata": {},
   "outputs": [],
   "source": [
    "d = {'name' : 'Pallavi','age' : 22,'email' : 'pallavi@gmail.com'}"
   ]
  },
  {
   "cell_type": "code",
   "execution_count": 94,
   "id": "49a25c6e",
   "metadata": {},
   "outputs": [
    {
     "data": {
      "text/plain": [
       "dict_keys(['name', 'age', 'email'])"
      ]
     },
     "execution_count": 94,
     "metadata": {},
     "output_type": "execute_result"
    }
   ],
   "source": [
    "# To check how many keys in dictionary\n",
    "d.keys()"
   ]
  },
  {
   "cell_type": "code",
   "execution_count": 98,
   "id": "84770114",
   "metadata": {},
   "outputs": [
    {
     "data": {
      "text/plain": [
       "dict_values(['Pallavi', 22, 'pallavi@gmail.com'])"
      ]
     },
     "execution_count": 98,
     "metadata": {},
     "output_type": "execute_result"
    }
   ],
   "source": [
    "# To check how many values in dictionary\n",
    "d.values()"
   ]
  },
  {
   "cell_type": "code",
   "execution_count": 100,
   "id": "8459e295",
   "metadata": {},
   "outputs": [
    {
     "data": {
      "text/plain": [
       "dict_items([('name', 'Pallavi'), ('age', 22), ('email', 'pallavi@gmail.com')])"
      ]
     },
     "execution_count": 100,
     "metadata": {},
     "output_type": "execute_result"
    }
   ],
   "source": [
    "# To check how many values and key in dictionary (both in one time)\n",
    "d.items()"
   ]
  },
  {
   "cell_type": "code",
   "execution_count": 101,
   "id": "bfa2d6b5",
   "metadata": {},
   "outputs": [
    {
     "data": {
      "text/plain": [
       "('email', 'pallavi@gmail.com')"
      ]
     },
     "execution_count": 101,
     "metadata": {},
     "output_type": "execute_result"
    }
   ],
   "source": [
    "# Remove the last key-value pair\n",
    "d.popitem()"
   ]
  }
 ],
 "metadata": {
  "kernelspec": {
   "display_name": "Python 3 (ipykernel)",
   "language": "python",
   "name": "python3"
  },
  "language_info": {
   "codemirror_mode": {
    "name": "ipython",
    "version": 3
   },
   "file_extension": ".py",
   "mimetype": "text/x-python",
   "name": "python",
   "nbconvert_exporter": "python",
   "pygments_lexer": "ipython3",
   "version": "3.9.12"
  }
 },
 "nbformat": 4,
 "nbformat_minor": 5
}
