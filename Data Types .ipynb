{
 "cells": [
  {
   "cell_type": "raw",
   "id": "643bbfbb",
   "metadata": {},
   "source": [
    "* Data Types -\n",
    "\n",
    " 1) String - \" \"\n",
    " 2) Integer - 123\n",
    " 3) Float   - 12.32\n",
    " 4) Boolean - True/False\n",
    " 5) Complex - 5 + 9j\n",
    " 6) Set     - {}\n",
    " 7) List    - []\n",
    " 8) Tuple   - ()\n",
    " 9) Dictionary - {key:value,key1:value2}"
   ]
  },
  {
   "cell_type": "markdown",
   "id": "e993468c",
   "metadata": {},
   "source": [
    "*  To check type of variable / object"
   ]
  },
  {
   "cell_type": "code",
   "execution_count": 8,
   "id": "f6851038",
   "metadata": {},
   "outputs": [
    {
     "data": {
      "text/plain": [
       "str"
      ]
     },
     "execution_count": 8,
     "metadata": {},
     "output_type": "execute_result"
    }
   ],
   "source": [
    "s = \"Python\"\n",
    "type(s)"
   ]
  },
  {
   "cell_type": "code",
   "execution_count": 9,
   "id": "5e6fc7af",
   "metadata": {},
   "outputs": [
    {
     "data": {
      "text/plain": [
       "int"
      ]
     },
     "execution_count": 9,
     "metadata": {},
     "output_type": "execute_result"
    }
   ],
   "source": [
    "a = 125\n",
    "type(a)"
   ]
  },
  {
   "cell_type": "code",
   "execution_count": 28,
   "id": "cff3a7ea",
   "metadata": {},
   "outputs": [
    {
     "data": {
      "text/plain": [
       "float"
      ]
     },
     "execution_count": 28,
     "metadata": {},
     "output_type": "execute_result"
    }
   ],
   "source": [
    "b = 12.36\n",
    "type(b)"
   ]
  },
  {
   "cell_type": "code",
   "execution_count": 30,
   "id": "d91945a0",
   "metadata": {},
   "outputs": [
    {
     "data": {
      "text/plain": [
       "bool"
      ]
     },
     "execution_count": 30,
     "metadata": {},
     "output_type": "execute_result"
    }
   ],
   "source": [
    "v = True\n",
    "type(v)"
   ]
  },
  {
   "cell_type": "code",
   "execution_count": 16,
   "id": "0c9ea55b",
   "metadata": {},
   "outputs": [
    {
     "data": {
      "text/plain": [
       "complex"
      ]
     },
     "execution_count": 16,
     "metadata": {},
     "output_type": "execute_result"
    }
   ],
   "source": [
    "a1 = 6 + 7j\n",
    "type(a1)"
   ]
  },
  {
   "cell_type": "code",
   "execution_count": 34,
   "id": "6b28c64c",
   "metadata": {},
   "outputs": [
    {
     "name": "stdout",
     "output_type": "stream",
     "text": [
      "imaginary number =  7.0\n",
      "real number =  6.0\n"
     ]
    }
   ],
   "source": [
    "# To check which number imaginary number and real number from a1\n",
    "\n",
    "a1.imag\n",
    "a1.real\n",
    "print(\"imaginary number = \",a1.imag)\n",
    "print(\"real number = \",a1.real)"
   ]
  },
  {
   "cell_type": "code",
   "execution_count": 27,
   "id": "9b72a68e",
   "metadata": {},
   "outputs": [
    {
     "data": {
      "text/plain": [
       "tuple"
      ]
     },
     "execution_count": 27,
     "metadata": {},
     "output_type": "execute_result"
    }
   ],
   "source": [
    "# to check type of t\n",
    "t = (10,)\n",
    "type(t)"
   ]
  },
  {
   "cell_type": "code",
   "execution_count": 39,
   "id": "7755ced2",
   "metadata": {},
   "outputs": [
    {
     "data": {
      "text/plain": [
       "dict"
      ]
     },
     "execution_count": 39,
     "metadata": {},
     "output_type": "execute_result"
    }
   ],
   "source": [
    "d = {'key': True, 'name': 9774841, 'contact': 9774841, 'l': 9774841}\n",
    "type(d)"
   ]
  },
  {
   "cell_type": "code",
   "execution_count": 40,
   "id": "df5d0f3d",
   "metadata": {},
   "outputs": [
    {
     "data": {
      "text/plain": [
       "set"
      ]
     },
     "execution_count": 40,
     "metadata": {},
     "output_type": "execute_result"
    }
   ],
   "source": [
    "s = {10,12.2,45,47,8,1,5,4,2,'sam',10,12.2,45,47,8,'sam'}\n",
    "type(s)"
   ]
  },
  {
   "cell_type": "code",
   "execution_count": 41,
   "id": "0da89028",
   "metadata": {},
   "outputs": [
    {
     "data": {
      "text/plain": [
       "list"
      ]
     },
     "execution_count": 41,
     "metadata": {},
     "output_type": "execute_result"
    }
   ],
   "source": [
    "l = ['abc', 12,12.1,True, 7+6j]\n",
    "type(l)"
   ]
  },
  {
   "cell_type": "code",
   "execution_count": 25,
   "id": "475f6a3c",
   "metadata": {},
   "outputs": [
    {
     "data": {
      "text/plain": [
       "tuple"
      ]
     },
     "execution_count": 25,
     "metadata": {},
     "output_type": "execute_result"
    }
   ],
   "source": [
    "# To convert into list tupal \n",
    "l = ['abc', 12,12.1,True, 7+6j]\n",
    "tuple(l)\n",
    "type(tuple(l))"
   ]
  },
  {
   "cell_type": "code",
   "execution_count": 26,
   "id": "8747fe7f",
   "metadata": {},
   "outputs": [
    {
     "data": {
      "text/plain": [
       "5"
      ]
     },
     "execution_count": 26,
     "metadata": {},
     "output_type": "execute_result"
    }
   ],
   "source": [
    "# To check length of l\n",
    "len(l)"
   ]
  },
  {
   "cell_type": "code",
   "execution_count": 20,
   "id": "d99367b1",
   "metadata": {},
   "outputs": [
    {
     "data": {
      "text/plain": [
       "list"
      ]
     },
     "execution_count": 20,
     "metadata": {},
     "output_type": "execute_result"
    }
   ],
   "source": [
    "# To convert tupal into list\n",
    "t = (10,12.2,45,47,8,'sam',10,12.2,45,47,8,'sam')\n",
    "list(t)\n",
    "type(list(t))"
   ]
  },
  {
   "cell_type": "code",
   "execution_count": 22,
   "id": "af5ba9df",
   "metadata": {},
   "outputs": [
    {
     "data": {
      "text/plain": [
       "12"
      ]
     },
     "execution_count": 22,
     "metadata": {},
     "output_type": "execute_result"
    }
   ],
   "source": [
    "# To check length of t\n",
    "len(t)"
   ]
  },
  {
   "cell_type": "code",
   "execution_count": 38,
   "id": "cdfe07cb",
   "metadata": {},
   "outputs": [
    {
     "data": {
      "text/plain": [
       "{'a', 'h', 'i', 'k', 'm', 'r', 's'}"
      ]
     },
     "execution_count": 38,
     "metadata": {},
     "output_type": "execute_result"
    }
   ],
   "source": [
    "# To convert string into set\n",
    "s = \"samirshaikh\"\n",
    "set(s)"
   ]
  },
  {
   "cell_type": "code",
   "execution_count": 48,
   "id": "a6a65694",
   "metadata": {},
   "outputs": [
    {
     "data": {
      "text/plain": [
       "\"{'key': True, 'name': 9774841, 'contact': 9774841, 'l': 9774841}\""
      ]
     },
     "execution_count": 48,
     "metadata": {},
     "output_type": "execute_result"
    }
   ],
   "source": [
    "# To convert dictionary into string\n",
    "str(d)"
   ]
  }
 ],
 "metadata": {
  "kernelspec": {
   "display_name": "Python 3 (ipykernel)",
   "language": "python",
   "name": "python3"
  },
  "language_info": {
   "codemirror_mode": {
    "name": "ipython",
    "version": 3
   },
   "file_extension": ".py",
   "mimetype": "text/x-python",
   "name": "python",
   "nbconvert_exporter": "python",
   "pygments_lexer": "ipython3",
   "version": "3.9.12"
  }
 },
 "nbformat": 4,
 "nbformat_minor": 5
}
