{
 "cells": [
  {
   "cell_type": "markdown",
   "id": "409026b9",
   "metadata": {},
   "source": [
    "* If you have 1 condition use \"if\"\n",
    "* If you have 2 condition use \"if - else\"\n",
    "* If you have multiple condition use \"elif\"between\"if\" & \"else\""
   ]
  },
  {
   "cell_type": "raw",
   "id": "e249b623",
   "metadata": {},
   "source": [
    "# logical conditions:\n",
    "\n",
    "Equals: a == b\n",
    "Not Equals: a != b\n",
    "Less than: a < b\n",
    "Less than or equal to: a <= b\n",
    "Greater than: a > b\n",
    "Greater than or equal to: a >= b"
   ]
  },
  {
   "cell_type": "code",
   "execution_count": 1,
   "id": "8e014982",
   "metadata": {},
   "outputs": [
    {
     "name": "stdout",
     "output_type": "stream",
     "text": [
      "a is positive number\n"
     ]
    }
   ],
   "source": [
    "# Example of 1 condition-\n",
    "a = 6\n",
    "if a > 0:\n",
    "    print(\"a is positive number\")"
   ]
  },
  {
   "cell_type": "code",
   "execution_count": 2,
   "id": "bf1d98c6",
   "metadata": {},
   "outputs": [
    {
     "name": "stdout",
     "output_type": "stream",
     "text": [
      "b is not positive number\n"
     ]
    }
   ],
   "source": [
    "# Example of  condition - \n",
    "b = -69\n",
    "\n",
    "if b > 0:\n",
    "    print(\"b is positive number\")\n",
    "else:\n",
    "    print(\"b is not positive number\")\n"
   ]
  },
  {
   "cell_type": "code",
   "execution_count": 3,
   "id": "ddb2d69f",
   "metadata": {},
   "outputs": [
    {
     "name": "stdout",
     "output_type": "stream",
     "text": [
      "enter a number : 0\n",
      "c is zero\n"
     ]
    }
   ],
   "source": [
    "# if there are 3 conditions\n",
    "# use input function\n",
    "c = int(input(\"enter a number : \"))\n",
    "\n",
    "if c > 0:\n",
    "    print(\"c is positive number\")\n",
    "elif c==0:\n",
    "    print(\"c is zero\")\n",
    "else:\n",
    "    print(\"c is not positive number\")\n"
   ]
  },
  {
   "cell_type": "code",
   "execution_count": 4,
   "id": "e3711d35",
   "metadata": {},
   "outputs": [
    {
     "name": "stdout",
     "output_type": "stream",
     "text": [
      "Enter a number : 0\n",
      "a is zero\n"
     ]
    }
   ],
   "source": [
    "# if number is positive append in positive_no list and number is negative append in negative_no\n",
    "\n",
    "positive_no = []\n",
    "negative_no = []\n",
    "\n",
    "a = int(input(\"Enter a number : \"))\n",
    "\n",
    "if a > 0:\n",
    "    positive_no.append(a)\n",
    "    print(\"a is positive number\")\n",
    "elif a==0:\n",
    "     \n",
    "    print(\"a is zero\")\n",
    "else:\n",
    "    negative_no.append(a)\n",
    "    print(\"a is positive number\")  "
   ]
  },
  {
   "cell_type": "code",
   "execution_count": null,
   "id": "e353591d",
   "metadata": {},
   "outputs": [],
   "source": [
    "a = int(input())"
   ]
  }
 ],
 "metadata": {
  "kernelspec": {
   "display_name": "Python 3 (ipykernel)",
   "language": "python",
   "name": "python3"
  },
  "language_info": {
   "codemirror_mode": {
    "name": "ipython",
    "version": 3
   },
   "file_extension": ".py",
   "mimetype": "text/x-python",
   "name": "python",
   "nbconvert_exporter": "python",
   "pygments_lexer": "ipython3",
   "version": "3.9.12"
  }
 },
 "nbformat": 4,
 "nbformat_minor": 5
}
