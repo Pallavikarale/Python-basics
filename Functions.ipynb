{
 "cells": [
  {
   "cell_type": "raw",
   "id": "530b2964",
   "metadata": {},
   "source": [
    "* Basic structure of Functions\n",
    "\n",
    "1)Functions(define function name)\n",
    "2)Functions(execution)\n",
    "3)Functions(calling)"
   ]
  },
  {
   "cell_type": "code",
   "execution_count": null,
   "id": "eeed7235",
   "metadata": {},
   "outputs": [],
   "source": []
  }
 ],
 "metadata": {
  "kernelspec": {
   "display_name": "Python 3 (ipykernel)",
   "language": "python",
   "name": "python3"
  },
  "language_info": {
   "codemirror_mode": {
    "name": "ipython",
    "version": 3
   },
   "file_extension": ".py",
   "mimetype": "text/x-python",
   "name": "python",
   "nbconvert_exporter": "python",
   "pygments_lexer": "ipython3",
   "version": "3.9.12"
  }
 },
 "nbformat": 4,
 "nbformat_minor": 5
}
