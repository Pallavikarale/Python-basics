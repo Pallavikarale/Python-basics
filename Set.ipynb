{
 "cells": [
  {
   "cell_type": "code",
   "execution_count": null,
   "id": "c9952a91",
   "metadata": {},
   "outputs": [],
   "source": [
    "# s={}\n",
    "# In set their are no indexing"
   ]
  },
  {
   "cell_type": "code",
   "execution_count": 16,
   "id": "7122f5a6",
   "metadata": {},
   "outputs": [],
   "source": [
    "s={1,2,3,4,5,6,7,9}"
   ]
  },
  {
   "cell_type": "code",
   "execution_count": 17,
   "id": "30d8552b",
   "metadata": {},
   "outputs": [
    {
     "data": {
      "text/plain": [
       "{1, 2, 3, 4, 5, 6, 7, 9, 200}"
      ]
     },
     "execution_count": 17,
     "metadata": {},
     "output_type": "execute_result"
    }
   ],
   "source": [
    "# Add an element to a set\n",
    "# in set we can add str,float,boolean,tupple \n",
    "# one time we can add only one element\n",
    "s.add(200)\n",
    "s"
   ]
  },
  {
   "cell_type": "code",
   "execution_count": 18,
   "id": "f7a3ab7f",
   "metadata": {},
   "outputs": [
    {
     "data": {
      "text/plain": [
       "{(22, 33, 44, 55), 1, 2, 200, 3, 4, 5, 6, 7, 9}"
      ]
     },
     "execution_count": 18,
     "metadata": {},
     "output_type": "execute_result"
    }
   ],
   "source": [
    "# if you want to add tupple\n",
    "s1=(22,33,44,55)\n",
    "s.add(s1)\n",
    "s"
   ]
  },
  {
   "cell_type": "code",
   "execution_count": 19,
   "id": "a9e8275e",
   "metadata": {},
   "outputs": [
    {
     "data": {
      "text/plain": [
       "{1, 2, 3, 4, 5, 6, 77, 88, 99}"
      ]
     },
     "execution_count": 19,
     "metadata": {},
     "output_type": "execute_result"
    }
   ],
   "source": [
    "# if you want to add tupple but you have add single single element\n",
    "a = {1,2,3,4,5,6}\n",
    "a1 = (99,88,77)\n",
    "a.update(a1)\n",
    "a"
   ]
  },
  {
   "cell_type": "code",
   "execution_count": 20,
   "id": "1d867064",
   "metadata": {},
   "outputs": [
    {
     "data": {
      "text/plain": [
       "{1, 2, 3, 4, 5, 6, 7, 9}"
      ]
     },
     "execution_count": 20,
     "metadata": {},
     "output_type": "execute_result"
    }
   ],
   "source": [
    "s={1,2,3,4,5,6,7,9}\n",
    "#  To create copy of s\n",
    "s2 = s.copy()\n",
    "s2"
   ]
  },
  {
   "cell_type": "code",
   "execution_count": 15,
   "id": "d8de9dfb",
   "metadata": {},
   "outputs": [
    {
     "data": {
      "text/plain": [
       "{2, 3, 4, 5, 6, 7, 9}"
      ]
     },
     "execution_count": 15,
     "metadata": {},
     "output_type": "execute_result"
    }
   ],
   "source": [
    "s={1,2,3,4,5,6,7,9}\n",
    "# To remove first element in set\n",
    "s.pop()\n",
    "s"
   ]
  },
  {
   "cell_type": "code",
   "execution_count": 21,
   "id": "8dda01a7",
   "metadata": {},
   "outputs": [
    {
     "data": {
      "text/plain": [
       "{1, 2, 3, 5, 6, 7, 9}"
      ]
     },
     "execution_count": 21,
     "metadata": {},
     "output_type": "execute_result"
    }
   ],
   "source": [
    "# Remove particular element in list.it must be member\n",
    "s.remove(4)\n",
    "s"
   ]
  },
  {
   "cell_type": "code",
   "execution_count": 23,
   "id": "79c1cf60",
   "metadata": {},
   "outputs": [
    {
     "data": {
      "text/plain": [
       "{1, 2, 3, 5, 6, 7, 9}"
      ]
     },
     "execution_count": 23,
     "metadata": {},
     "output_type": "execute_result"
    }
   ],
   "source": [
    "# if number is available then remove it and number is not available then also run(not get error)\n",
    "s.discard(123)\n",
    "s"
   ]
  },
  {
   "cell_type": "code",
   "execution_count": 25,
   "id": "e9be23a2",
   "metadata": {},
   "outputs": [
    {
     "data": {
      "text/plain": [
       "set()"
      ]
     },
     "execution_count": 25,
     "metadata": {},
     "output_type": "execute_result"
    }
   ],
   "source": [
    "# To remove all element in the set\n",
    "s.clear()\n",
    "s"
   ]
  },
  {
   "cell_type": "code",
   "execution_count": 33,
   "id": "f960cd58",
   "metadata": {},
   "outputs": [
    {
     "data": {
      "text/plain": [
       "{5, 6, 9}"
      ]
     },
     "execution_count": 33,
     "metadata": {},
     "output_type": "execute_result"
    }
   ],
   "source": [
    "# convert tupple,list,string into set\n",
    "t=(5,6,9)\n",
    "set(t)"
   ]
  },
  {
   "cell_type": "code",
   "execution_count": 34,
   "id": "a1bfdbb5",
   "metadata": {},
   "outputs": [
    {
     "data": {
      "text/plain": [
       "{1, 2, 3, 4, 5, 6, 7, 8, 9}"
      ]
     },
     "execution_count": 34,
     "metadata": {},
     "output_type": "execute_result"
    }
   ],
   "source": [
    "# To find unique element in tupple,list and string\n",
    "t = (1,2,3,4,5,6,7,8,9,8,5,2,3,6,5,5,5,5)\n",
    "set(t)"
   ]
  },
  {
   "cell_type": "code",
   "execution_count": 39,
   "id": "1811f395",
   "metadata": {},
   "outputs": [],
   "source": [
    "s = {10,20,30,40,50,60}\n",
    "s1 = {1,2,30,4,5,60}"
   ]
  },
  {
   "cell_type": "code",
   "execution_count": 40,
   "id": "e1c84c95",
   "metadata": {},
   "outputs": [
    {
     "data": {
      "text/plain": [
       "{30, 60}"
      ]
     },
     "execution_count": 40,
     "metadata": {},
     "output_type": "execute_result"
    }
   ],
   "source": [
    "# To check intersection of s & s1(common elements)\n",
    "s.intersection(s1)"
   ]
  },
  {
   "cell_type": "code",
   "execution_count": 42,
   "id": "325e670d",
   "metadata": {},
   "outputs": [
    {
     "data": {
      "text/plain": [
       "{1, 2, 4, 5, 10, 20, 30, 40, 50, 60}"
      ]
     },
     "execution_count": 42,
     "metadata": {},
     "output_type": "execute_result"
    }
   ],
   "source": [
    "# To check union of s & s1 ( all elements that are in either set)\n",
    "s.union(s1)"
   ]
  },
  {
   "cell_type": "code",
   "execution_count": 43,
   "id": "e0a8f38b",
   "metadata": {},
   "outputs": [
    {
     "data": {
      "text/plain": [
       "{1, 2, 4, 5, 10, 20, 40, 50}"
      ]
     },
     "execution_count": 43,
     "metadata": {},
     "output_type": "execute_result"
    }
   ],
   "source": [
    "# To remove same element in set\n",
    "s.symmetric_difference(s1)"
   ]
  },
  {
   "cell_type": "code",
   "execution_count": 44,
   "id": "afe4dce9",
   "metadata": {},
   "outputs": [
    {
     "data": {
      "text/plain": [
       "{10, 20, 40, 50}"
      ]
     },
     "execution_count": 44,
     "metadata": {},
     "output_type": "execute_result"
    }
   ],
   "source": [
    "# to find element they present in s and they not present in s1\n",
    "s.difference(s1)"
   ]
  },
  {
   "cell_type": "code",
   "execution_count": 46,
   "id": "8861aa04",
   "metadata": {},
   "outputs": [
    {
     "data": {
      "text/plain": [
       "{1, 2, 4, 5}"
      ]
     },
     "execution_count": 46,
     "metadata": {},
     "output_type": "execute_result"
    }
   ],
   "source": [
    "# vise versa of above\n",
    "s1.difference(s)"
   ]
  },
  {
   "cell_type": "code",
   "execution_count": 53,
   "id": "fcc50d8e",
   "metadata": {},
   "outputs": [
    {
     "name": "stdout",
     "output_type": "stream",
     "text": [
      "4 in s =  False\n",
      "4 not in s =  True\n",
      "30 in s =  True\n"
     ]
    }
   ],
   "source": [
    "# To check membership (in,not in)\n",
    "# if yes then get true and if not then get false\n",
    "s = {10,20,30,40,50,60}\n",
    "print(\"4 in s = \",4 in s)\n",
    "print(\"4 not in s = \",4 not in s)\n",
    "print(\"30 in s = \",30 in s)"
   ]
  }
 ],
 "metadata": {
  "kernelspec": {
   "display_name": "Python 3 (ipykernel)",
   "language": "python",
   "name": "python3"
  },
  "language_info": {
   "codemirror_mode": {
    "name": "ipython",
    "version": 3
   },
   "file_extension": ".py",
   "mimetype": "text/x-python",
   "name": "python",
   "nbconvert_exporter": "python",
   "pygments_lexer": "ipython3",
   "version": "3.9.12"
  }
 },
 "nbformat": 4,
 "nbformat_minor": 5
}
