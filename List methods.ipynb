{
 "cells": [
  {
   "cell_type": "markdown",
   "id": "3e1ce1f0",
   "metadata": {},
   "source": [
    "1] list(s)-"
   ]
  },
  {
   "cell_type": "code",
   "execution_count": 3,
   "id": "dab65cf0",
   "metadata": {},
   "outputs": [
    {
     "name": "stdout",
     "output_type": "stream",
     "text": [
      "pythonclass\n"
     ]
    }
   ],
   "source": [
    "s=\"pythonclass\"\n",
    "try:\n",
    "    def output(name):\n",
    "        try:\n",
    "            print(s)\n",
    "        except exception as e:\n",
    "            print(e)\n",
    "    output(s)\n",
    "except exception as e:\n",
    "            print(e)   "
   ]
  },
  {
   "cell_type": "code",
   "execution_count": 37,
   "id": "4451763a",
   "metadata": {},
   "outputs": [],
   "source": [
    "l=[10,20,30,40,50,60,70,\"anuja\",12.36,\"pallavi\",6.14]"
   ]
  },
  {
   "cell_type": "markdown",
   "id": "539e1958",
   "metadata": {},
   "source": [
    "max(l)"
   ]
  },
  {
   "cell_type": "code",
   "execution_count": 1,
   "id": "975fa40b",
   "metadata": {},
   "outputs": [
    {
     "name": "stdout",
     "output_type": "stream",
     "text": [
      "90\n"
     ]
    }
   ],
   "source": [
    "l=[10,30,40,60,80,90]\n",
    "try:\n",
    "    def max_num(number):\n",
    "        try:\n",
    "            print(max(l))\n",
    "        except exception as e:\n",
    "             print(e)\n",
    "    max_num(max(l))  \n",
    "except exception as e:\n",
    "             print(e)"
   ]
  },
  {
   "cell_type": "markdown",
   "id": "43523eec",
   "metadata": {},
   "source": [
    "min(l)"
   ]
  },
  {
   "cell_type": "code",
   "execution_count": 13,
   "id": "9a9aaf7e",
   "metadata": {},
   "outputs": [
    {
     "name": "stdout",
     "output_type": "stream",
     "text": [
      "10\n"
     ]
    }
   ],
   "source": [
    "l=[10,30,40,60,80,90]\n",
    "try:\n",
    "    def min_num(number):\n",
    "        try:\n",
    "             print(min(l))\n",
    "        except exception as e:\n",
    "             print(e)\n",
    "    min_num(min(l))  \n",
    "except exception as e:\n",
    "         print(e)      "
   ]
  },
  {
   "cell_type": "markdown",
   "id": "e107e02c",
   "metadata": {},
   "source": [
    "1] l.insert(index,object)\n",
    "    \n",
    " * Add an element at the specified element\n",
    "   "
   ]
  },
  {
   "cell_type": "code",
   "execution_count": 2,
   "id": "c45930b7",
   "metadata": {},
   "outputs": [
    {
     "name": "stdout",
     "output_type": "stream",
     "text": [
      "[5, 10, 30, 40, 60, 80, 90]\n"
     ]
    }
   ],
   "source": [
    "l=[10,30,40,60,80,90]\n",
    "try:\n",
    "    def insert_variable(index,int):\n",
    "        \"This function written insert variable\"\n",
    "        try:  \n",
    "            l.insert(index,int)\n",
    "            print(l)\n",
    "        except Exception as e: \n",
    "               print(e)\n",
    "    insert_variable(0,5)\n",
    "except Exception as e: \n",
    "               print(e)"
   ]
  },
  {
   "cell_type": "markdown",
   "id": "51e85785",
   "metadata": {},
   "source": [
    "2] l.count()\n",
    "  \n",
    "  * Returns the number of element with the specified value"
   ]
  },
  {
   "cell_type": "code",
   "execution_count": 3,
   "id": "01d1653f",
   "metadata": {},
   "outputs": [
    {
     "name": "stdout",
     "output_type": "stream",
     "text": [
      "1\n"
     ]
    }
   ],
   "source": [
    "l=[10,30,40,60,80,90]\n",
    "try:\n",
    "    def count(number):\n",
    "        \"this function written count variable\"\n",
    "        try:\n",
    "            print(l.count(number))              \n",
    "        except Exception as e:\n",
    "            print (e)\n",
    "    count(10)\n",
    "except Exception as e:\n",
    "            print (e)\n",
    "    \n",
    "    "
   ]
  },
  {
   "cell_type": "markdown",
   "id": "908d8223",
   "metadata": {},
   "source": [
    "3] l.index()\n",
    " \n",
    " * Returns the index of the first element  with the specifide value"
   ]
  },
  {
   "cell_type": "code",
   "execution_count": 4,
   "id": "6ac6376b",
   "metadata": {},
   "outputs": [
    {
     "name": "stdout",
     "output_type": "stream",
     "text": [
      "5\n"
     ]
    }
   ],
   "source": [
    "l=[10,30,40,60,80,90] \n",
    "try:\n",
    "    def index(number):\n",
    "        \"this function written to find index number \"\n",
    "        try:\n",
    "            print(l.index(number))              \n",
    "        except Exception as e:\n",
    "            print (e)\n",
    "    index(90)\n",
    "except Exception as e:\n",
    "            print (e)   \n",
    "        "
   ]
  },
  {
   "cell_type": "markdown",
   "id": "fc6798f5",
   "metadata": {},
   "source": [
    "4] l.append()\n",
    " \n",
    " * adds an element at the end of list "
   ]
  },
  {
   "cell_type": "code",
   "execution_count": 6,
   "id": "92be80ab",
   "metadata": {},
   "outputs": [
    {
     "name": "stdout",
     "output_type": "stream",
     "text": [
      "[12, 2, 54, 54, 250, 'python']\n"
     ]
    }
   ],
   "source": [
    "l=[12,2,54,54,250]\n",
    "try:\n",
    "    def append(str):\n",
    "        try: \n",
    "            l.append(str)\n",
    "            print(l)\n",
    "        except Exception as e:\n",
    "            print(e)\n",
    "    append('python') \n",
    "except Exception as e:\n",
    "            print(e)"
   ]
  },
  {
   "cell_type": "markdown",
   "id": "d28d3caf",
   "metadata": {},
   "source": [
    "5] l.extend(l1)\n",
    "\n",
    " * add the element of the list (or any iterable) ,to the end of current list"
   ]
  },
  {
   "cell_type": "code",
   "execution_count": 7,
   "id": "2a771add",
   "metadata": {},
   "outputs": [
    {
     "name": "stdout",
     "output_type": "stream",
     "text": [
      "[12, 2, 54, 54, 250, 10, 55, 99]\n"
     ]
    }
   ],
   "source": [
    "l=[12,2,54,54,250]\n",
    "l1=[10,55,99]\n",
    "try:\n",
    "    def extend(number):\n",
    "        try:\n",
    "            l.extend(number)\n",
    "            print(l)\n",
    "        except Exception as e:\n",
    "            print(e)\n",
    "    extend(l1)      \n",
    "except Exception as e:\n",
    "            print(e)"
   ]
  },
  {
   "cell_type": "markdown",
   "id": "2db817fd",
   "metadata": {},
   "source": [
    "6] l.pop()\n",
    "  \n",
    "  *Remove the element at the specified position"
   ]
  },
  {
   "cell_type": "code",
   "execution_count": 10,
   "id": "4f12ca06",
   "metadata": {},
   "outputs": [
    {
     "name": "stdout",
     "output_type": "stream",
     "text": [
      "[10, 20, 30, 40, 50, 60]\n"
     ]
    }
   ],
   "source": [
    "l=[10,20,30,40,50,60,70]\n",
    "try:\n",
    "    def pop(number): \n",
    "        try:\n",
    "            l.pop()\n",
    "            print(l)\n",
    "        except Exception as e:\n",
    "            print (e)\n",
    "    pop(l)\n",
    "except Exception as e:\n",
    "            print (e)\n",
    "    \n",
    "    "
   ]
  },
  {
   "cell_type": "markdown",
   "id": "760bb444",
   "metadata": {},
   "source": [
    "7] l.remove()\n",
    "  \n",
    "  * Remove the item with the specified value"
   ]
  },
  {
   "cell_type": "code",
   "execution_count": 11,
   "id": "282dac77",
   "metadata": {},
   "outputs": [
    {
     "name": "stdout",
     "output_type": "stream",
     "text": [
      "[20, 30, 40, 50, 60, 70, 80, 90]\n"
     ]
    }
   ],
   "source": [
    "l=[10,20,30,40,50,60,70,80,90]\n",
    "try:\n",
    "    def remove(number):\n",
    "        try:\n",
    "            l.remove(number)\n",
    "            print(l)\n",
    "        except Exception as e:\n",
    "            print(e)\n",
    "    remove(10)\n",
    "except Exception as e:\n",
    "            print(e)\n",
    "        "
   ]
  },
  {
   "cell_type": "markdown",
   "id": "8f54e7d1",
   "metadata": {},
   "source": [
    "8] l.reverse()\n",
    "\n",
    " * reverses the order of the list"
   ]
  },
  {
   "cell_type": "code",
   "execution_count": 13,
   "id": "d8619bc6",
   "metadata": {},
   "outputs": [
    {
     "name": "stdout",
     "output_type": "stream",
     "text": [
      "[99, 88, 77, 66, 55, 44, 33, 22, 11]\n"
     ]
    }
   ],
   "source": [
    "l=[11,22,33,44,55,66,77,88,99]\n",
    "try:\n",
    "    def reverse(number):\n",
    "        try:\n",
    "            l.reverse()\n",
    "            print(l)\n",
    "        except Exception as e:\n",
    "            print (e)\n",
    "    reverse(l)\n",
    "except Exception as e:\n",
    "            print (e)    "
   ]
  },
  {
   "cell_type": "markdown",
   "id": "8e52df36",
   "metadata": {},
   "source": [
    "9] l.sort()\n",
    "  \n",
    "  * sorts the list"
   ]
  },
  {
   "cell_type": "code",
   "execution_count": 5,
   "id": "cbf971c5",
   "metadata": {},
   "outputs": [
    {
     "name": "stdout",
     "output_type": "stream",
     "text": [
      "[11, 22, 33, 44, 55, 66, 77, 88, 99]\n"
     ]
    }
   ],
   "source": [
    "l=[11,22,33,44,55,66,77,88,99]\n",
    "try:\n",
    "    def sort(number):\n",
    "        try:\n",
    "            l.sort()\n",
    "            print(l)\n",
    "        except Exception as e:\n",
    "            print (e)\n",
    "    sort(l)        \n",
    "except Exception as e:\n",
    "            print (e)   "
   ]
  },
  {
   "cell_type": "markdown",
   "id": "77874c5c",
   "metadata": {},
   "source": [
    "10] l.copy()\n",
    "\n",
    "  * Returns a copy a list"
   ]
  },
  {
   "cell_type": "code",
   "execution_count": 4,
   "id": "425cc2b9",
   "metadata": {},
   "outputs": [
    {
     "name": "stdout",
     "output_type": "stream",
     "text": [
      "[11, 22, 33, 44, 55, 66, 77, 88, 99]\n"
     ]
    }
   ],
   "source": [
    "l=[11,22,33,44,55,66,77,88,99]\n",
    "try:\n",
    "    def copy(number):\n",
    "        try:\n",
    "            l.copy()\n",
    "            print(l)\n",
    "        except Exception as e:\n",
    "            print(e)\n",
    "    copy(l)\n",
    "except Exception as e:\n",
    "            print(e)   "
   ]
  },
  {
   "cell_type": "code",
   "execution_count": null,
   "id": "9d8f5cb6",
   "metadata": {},
   "outputs": [],
   "source": []
  }
 ],
 "metadata": {
  "kernelspec": {
   "display_name": "Python 3 (ipykernel)",
   "language": "python",
   "name": "python3"
  },
  "language_info": {
   "codemirror_mode": {
    "name": "ipython",
    "version": 3
   },
   "file_extension": ".py",
   "mimetype": "text/x-python",
   "name": "python",
   "nbconvert_exporter": "python",
   "pygments_lexer": "ipython3",
   "version": "3.9.12"
  }
 },
 "nbformat": 4,
 "nbformat_minor": 5
}
